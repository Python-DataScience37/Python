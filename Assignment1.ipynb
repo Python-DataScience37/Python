{
 "cells": [
  {
   "cell_type": "markdown",
   "id": "b2a5dbec-049c-4e41-b399-f66c15b10bc6",
   "metadata": {},
   "source": [
    "#datatypes"
   ]
  },
  {
   "cell_type": "code",
   "execution_count": 20,
   "id": "7613c214-b581-4497-be94-dd31a13dfcd6",
   "metadata": {},
   "outputs": [
    {
     "data": {
      "text/plain": [
       "int"
      ]
     },
     "execution_count": 20,
     "metadata": {},
     "output_type": "execute_result"
    }
   ],
   "source": [
    "type(2)"
   ]
  },
  {
   "cell_type": "code",
   "execution_count": 21,
   "id": "e00846af-0eba-4ec5-97e1-394a451129d8",
   "metadata": {},
   "outputs": [
    {
     "data": {
      "text/plain": [
       "(float, complex)"
      ]
     },
     "execution_count": 21,
     "metadata": {},
     "output_type": "execute_result"
    }
   ],
   "source": [
    "type(333.5), type(1+2j)"
   ]
  },
  {
   "cell_type": "code",
   "execution_count": 22,
   "id": "b6293666-e701-4535-aede-1f71f54757dc",
   "metadata": {},
   "outputs": [
    {
     "data": {
      "text/plain": [
       "str"
      ]
     },
     "execution_count": 22,
     "metadata": {},
     "output_type": "execute_result"
    }
   ],
   "source": [
    "type(\"anu\")"
   ]
  },
  {
   "cell_type": "code",
   "execution_count": 23,
   "id": "e2eadbba-c4ec-46a7-8b55-6d9fd60eada3",
   "metadata": {},
   "outputs": [
    {
     "data": {
      "text/plain": [
       "bool"
      ]
     },
     "execution_count": 23,
     "metadata": {},
     "output_type": "execute_result"
    }
   ],
   "source": [
    "type(True)"
   ]
  },
  {
   "cell_type": "markdown",
   "id": "5a597f13-eb34-42e6-89e9-421a4eeb10da",
   "metadata": {},
   "source": [
    "#Arithematic opr"
   ]
  },
  {
   "cell_type": "code",
   "execution_count": 24,
   "id": "b2e3d060-5ffa-4f5b-8a2a-10593daa0f6b",
   "metadata": {},
   "outputs": [
    {
     "data": {
      "text/plain": [
       "126"
      ]
     },
     "execution_count": 24,
     "metadata": {},
     "output_type": "execute_result"
    }
   ],
   "source": [
    "123+3"
   ]
  },
  {
   "cell_type": "code",
   "execution_count": 25,
   "id": "cf0f6c15-dfad-4e85-8a3d-b8cfab10aeec",
   "metadata": {},
   "outputs": [
    {
     "data": {
      "text/plain": [
       "0.3000000000000007"
      ]
     },
     "execution_count": 25,
     "metadata": {},
     "output_type": "execute_result"
    }
   ],
   "source": [
    "23.3-23"
   ]
  },
  {
   "cell_type": "code",
   "execution_count": 26,
   "id": "b1feae37-3728-4455-9fa6-31c30c70ea4c",
   "metadata": {},
   "outputs": [
    {
     "data": {
      "text/plain": [
       "8.6"
      ]
     },
     "execution_count": 26,
     "metadata": {},
     "output_type": "execute_result"
    }
   ],
   "source": [
    "43/5"
   ]
  },
  {
   "cell_type": "code",
   "execution_count": 27,
   "id": "aa609023-e3a4-4b82-ac03-d6ad59a4ef0b",
   "metadata": {},
   "outputs": [
    {
     "data": {
      "text/plain": [
       "8"
      ]
     },
     "execution_count": 27,
     "metadata": {},
     "output_type": "execute_result"
    }
   ],
   "source": [
    "43//5"
   ]
  },
  {
   "cell_type": "code",
   "execution_count": 28,
   "id": "90b20a87-b8a7-4a8e-a9d8-16282d5419a5",
   "metadata": {},
   "outputs": [
    {
     "data": {
      "text/plain": [
       "936"
      ]
     },
     "execution_count": 28,
     "metadata": {},
     "output_type": "execute_result"
    }
   ],
   "source": [
    "234*4"
   ]
  },
  {
   "cell_type": "code",
   "execution_count": 29,
   "id": "e066ba55-827c-4b36-9dcf-56d4b0ffee04",
   "metadata": {},
   "outputs": [
    {
     "data": {
      "text/plain": [
       "464.8"
      ]
     },
     "execution_count": 29,
     "metadata": {},
     "output_type": "execute_result"
    }
   ],
   "source": [
    "232.4*2"
   ]
  },
  {
   "cell_type": "code",
   "execution_count": 30,
   "id": "bf0c1a07-a346-4f54-80f3-94c68e763420",
   "metadata": {},
   "outputs": [
    {
     "data": {
      "text/plain": [
       "1089"
      ]
     },
     "execution_count": 30,
     "metadata": {},
     "output_type": "execute_result"
    }
   ],
   "source": [
    "33**2"
   ]
  },
  {
   "cell_type": "code",
   "execution_count": 31,
   "id": "257ac0cc-0050-434d-823f-d136fef4b0e1",
   "metadata": {},
   "outputs": [
    {
     "data": {
      "text/plain": [
       "0"
      ]
     },
     "execution_count": 31,
     "metadata": {},
     "output_type": "execute_result"
    }
   ],
   "source": [
    "45%5"
   ]
  },
  {
   "cell_type": "markdown",
   "id": "f3fab6d8-43b5-4449-9903-d5680fe5403b",
   "metadata": {},
   "source": [
    "#assignment opr"
   ]
  },
  {
   "cell_type": "code",
   "execution_count": 32,
   "id": "916eeb34-49c8-4d14-aa6e-bae62b76353d",
   "metadata": {},
   "outputs": [
    {
     "data": {
      "text/plain": [
       "4"
      ]
     },
     "execution_count": 32,
     "metadata": {},
     "output_type": "execute_result"
    }
   ],
   "source": [
    "a=4\n",
    "a"
   ]
  },
  {
   "cell_type": "code",
   "execution_count": 35,
   "id": "2dfa989c-acf0-4b7c-b306-3b4fa467d0bb",
   "metadata": {},
   "outputs": [
    {
     "data": {
      "text/plain": [
       "15"
      ]
     },
     "execution_count": 35,
     "metadata": {},
     "output_type": "execute_result"
    }
   ],
   "source": [
    "a+=11\n",
    "a"
   ]
  },
  {
   "cell_type": "code",
   "execution_count": 38,
   "id": "fa867bb8-4bd1-4208-8bdd-59996918e7e2",
   "metadata": {},
   "outputs": [
    {
     "data": {
      "text/plain": [
       "70"
      ]
     },
     "execution_count": 38,
     "metadata": {},
     "output_type": "execute_result"
    }
   ],
   "source": [
    "b=35\n",
    "b+=b\n",
    "b"
   ]
  },
  {
   "cell_type": "code",
   "execution_count": 39,
   "id": "6f2ff7bc-a1ed-4955-9bd3-bd3041a80ae2",
   "metadata": {},
   "outputs": [
    {
     "data": {
      "text/plain": [
       "0"
      ]
     },
     "execution_count": 39,
     "metadata": {},
     "output_type": "execute_result"
    }
   ],
   "source": [
    "b-=b\n",
    "b"
   ]
  },
  {
   "cell_type": "code",
   "execution_count": 41,
   "id": "bbdd83df-a64c-412d-b879-05c76e5bb84e",
   "metadata": {},
   "outputs": [
    {
     "data": {
      "text/plain": [
       "1.0"
      ]
     },
     "execution_count": 41,
     "metadata": {},
     "output_type": "execute_result"
    }
   ],
   "source": [
    "b=6\n",
    "b/=b\n",
    "b"
   ]
  },
  {
   "cell_type": "code",
   "execution_count": 42,
   "id": "4b331690-e079-439b-b8d1-351808e13048",
   "metadata": {},
   "outputs": [
    {
     "data": {
      "text/plain": [
       "400"
      ]
     },
     "execution_count": 42,
     "metadata": {},
     "output_type": "execute_result"
    }
   ],
   "source": [
    "b=20\n",
    "b*=b\n",
    "b"
   ]
  },
  {
   "cell_type": "code",
   "execution_count": 43,
   "id": "59da8b8a-cf18-4ded-b24f-208a9eba1d51",
   "metadata": {},
   "outputs": [
    {
     "data": {
      "text/plain": [
       "104857600000000000000000000"
      ]
     },
     "execution_count": 43,
     "metadata": {},
     "output_type": "execute_result"
    }
   ],
   "source": [
    "b=20\n",
    "b**=b\n",
    "b"
   ]
  },
  {
   "cell_type": "code",
   "execution_count": 44,
   "id": "6e9c96b3-7fdd-4089-aaa7-e4a86807891f",
   "metadata": {},
   "outputs": [
    {
     "data": {
      "text/plain": [
       "1"
      ]
     },
     "execution_count": 44,
     "metadata": {},
     "output_type": "execute_result"
    }
   ],
   "source": [
    "b=20\n",
    "b//=b\n",
    "b"
   ]
  },
  {
   "cell_type": "code",
   "execution_count": 45,
   "id": "462295bc-6de0-403c-9c4a-d2d9954f54d0",
   "metadata": {},
   "outputs": [
    {
     "data": {
      "text/plain": [
       "20"
      ]
     },
     "execution_count": 45,
     "metadata": {},
     "output_type": "execute_result"
    }
   ],
   "source": [
    "b=20\n",
    "b&=b\n",
    "b"
   ]
  },
  {
   "cell_type": "code",
   "execution_count": 46,
   "id": "afedb3f9-2352-4407-917e-c5f814e49822",
   "metadata": {},
   "outputs": [
    {
     "data": {
      "text/plain": [
       "0"
      ]
     },
     "execution_count": 46,
     "metadata": {},
     "output_type": "execute_result"
    }
   ],
   "source": [
    "b=20\n",
    "b%=b\n",
    "b"
   ]
  },
  {
   "cell_type": "code",
   "execution_count": 47,
   "id": "041604df-44a6-4e41-85ae-62d944335326",
   "metadata": {},
   "outputs": [
    {
     "data": {
      "text/plain": [
       "20"
      ]
     },
     "execution_count": 47,
     "metadata": {},
     "output_type": "execute_result"
    }
   ],
   "source": [
    "b=20\n",
    "b|=b\n",
    "b"
   ]
  },
  {
   "cell_type": "code",
   "execution_count": 48,
   "id": "66e6fea1-e8d2-4835-afd0-b81a45a34b96",
   "metadata": {},
   "outputs": [
    {
     "data": {
      "text/plain": [
       "0"
      ]
     },
     "execution_count": 48,
     "metadata": {},
     "output_type": "execute_result"
    }
   ],
   "source": [
    "b=20\n",
    "b^=b\n",
    "b"
   ]
  },
  {
   "cell_type": "code",
   "execution_count": 49,
   "id": "a140e141-1cb2-4e3e-b197-3cbe04eb7305",
   "metadata": {},
   "outputs": [
    {
     "data": {
      "text/plain": [
       "0"
      ]
     },
     "execution_count": 49,
     "metadata": {},
     "output_type": "execute_result"
    }
   ],
   "source": [
    "b=20\n",
    "b>>=b\n",
    "b"
   ]
  },
  {
   "cell_type": "code",
   "execution_count": 50,
   "id": "bc0701b4-14ba-49fb-871d-4cbe0b3a44e3",
   "metadata": {},
   "outputs": [
    {
     "data": {
      "text/plain": [
       "20971520"
      ]
     },
     "execution_count": 50,
     "metadata": {},
     "output_type": "execute_result"
    }
   ],
   "source": [
    "b=20\n",
    "b<<=b\n",
    "b"
   ]
  },
  {
   "cell_type": "markdown",
   "id": "22038d08-9381-4c84-80b1-48943ad3b051",
   "metadata": {},
   "source": [
    "#comparission opr"
   ]
  },
  {
   "cell_type": "code",
   "execution_count": 51,
   "id": "50b65977-0c39-4dfd-9ce9-860caaea2626",
   "metadata": {},
   "outputs": [
    {
     "data": {
      "text/plain": [
       "False"
      ]
     },
     "execution_count": 51,
     "metadata": {},
     "output_type": "execute_result"
    }
   ],
   "source": [
    "a==b"
   ]
  },
  {
   "cell_type": "code",
   "execution_count": 52,
   "id": "7b86a1a9-feff-45c0-b002-64505d094141",
   "metadata": {},
   "outputs": [
    {
     "data": {
      "text/plain": [
       "True"
      ]
     },
     "execution_count": 52,
     "metadata": {},
     "output_type": "execute_result"
    }
   ],
   "source": [
    "a<=b"
   ]
  },
  {
   "cell_type": "code",
   "execution_count": 53,
   "id": "00e82987-0bf5-456c-b718-42d66ed74eff",
   "metadata": {},
   "outputs": [
    {
     "data": {
      "text/plain": [
       "False"
      ]
     },
     "execution_count": 53,
     "metadata": {},
     "output_type": "execute_result"
    }
   ],
   "source": [
    "a>b"
   ]
  },
  {
   "cell_type": "code",
   "execution_count": 54,
   "id": "3475e2a4-6f42-4f6f-9fb6-9dd0c169f32b",
   "metadata": {},
   "outputs": [
    {
     "data": {
      "text/plain": [
       "False"
      ]
     },
     "execution_count": 54,
     "metadata": {},
     "output_type": "execute_result"
    }
   ],
   "source": [
    "a>=b"
   ]
  },
  {
   "cell_type": "code",
   "execution_count": 55,
   "id": "5dd5d6ed-2586-4e90-a31f-41cdcbffb28d",
   "metadata": {},
   "outputs": [
    {
     "data": {
      "text/plain": [
       "True"
      ]
     },
     "execution_count": 55,
     "metadata": {},
     "output_type": "execute_result"
    }
   ],
   "source": [
    "a!=b"
   ]
  },
  {
   "cell_type": "code",
   "execution_count": 57,
   "id": "4a1df914-720b-485a-af11-d50c1a5c123b",
   "metadata": {},
   "outputs": [
    {
     "data": {
      "text/plain": [
       "(20, 43)"
      ]
     },
     "execution_count": 57,
     "metadata": {},
     "output_type": "execute_result"
    }
   ],
   "source": [
    "x=20 \n",
    "y= 43\n",
    "x,y"
   ]
  },
  {
   "cell_type": "code",
   "execution_count": 58,
   "id": "e3611de0-18e1-4d1a-ada1-5ee07d664645",
   "metadata": {},
   "outputs": [],
   "source": [
    "x,y=y,x"
   ]
  },
  {
   "cell_type": "code",
   "execution_count": 59,
   "id": "3abb7731-dc9c-40fe-9866-e9f2a19b2db2",
   "metadata": {},
   "outputs": [
    {
     "data": {
      "text/plain": [
       "(43, 20)"
      ]
     },
     "execution_count": 59,
     "metadata": {},
     "output_type": "execute_result"
    }
   ],
   "source": [
    "x,y"
   ]
  },
  {
   "cell_type": "code",
   "execution_count": 60,
   "id": "928bf414-279c-473b-aa45-67d32bd543c7",
   "metadata": {},
   "outputs": [],
   "source": [
    "x=y"
   ]
  },
  {
   "cell_type": "code",
   "execution_count": 62,
   "id": "11c34eda-7784-4112-9daf-83f81d477e25",
   "metadata": {},
   "outputs": [
    {
     "data": {
      "text/plain": [
       "True"
      ]
     },
     "execution_count": 62,
     "metadata": {},
     "output_type": "execute_result"
    }
   ],
   "source": [
    "x==y"
   ]
  },
  {
   "cell_type": "markdown",
   "id": "4b37efda-879f-4042-839e-75af354ac517",
   "metadata": {},
   "source": [
    "#Logical opr"
   ]
  },
  {
   "cell_type": "code",
   "execution_count": 63,
   "id": "b08714ba-0766-4b8f-bd01-8904c08bcc77",
   "metadata": {},
   "outputs": [],
   "source": [
    "m=15\n",
    "n=54"
   ]
  },
  {
   "cell_type": "code",
   "execution_count": 64,
   "id": "ba4b52a5-b624-4435-afb3-52cdd8725a77",
   "metadata": {},
   "outputs": [
    {
     "data": {
      "text/plain": [
       "54"
      ]
     },
     "execution_count": 64,
     "metadata": {},
     "output_type": "execute_result"
    }
   ],
   "source": [
    "m and n"
   ]
  },
  {
   "cell_type": "code",
   "execution_count": 65,
   "id": "06314a74-108d-4147-9ac3-8101921732e6",
   "metadata": {},
   "outputs": [
    {
     "data": {
      "text/plain": [
       "15"
      ]
     },
     "execution_count": 65,
     "metadata": {},
     "output_type": "execute_result"
    }
   ],
   "source": [
    "m or n"
   ]
  },
  {
   "cell_type": "code",
   "execution_count": 67,
   "id": "03b446cb-494b-4039-82de-14b7c2a46f6c",
   "metadata": {},
   "outputs": [
    {
     "data": {
      "text/plain": [
       "False"
      ]
     },
     "execution_count": 67,
     "metadata": {},
     "output_type": "execute_result"
    }
   ],
   "source": [
    "m is n"
   ]
  },
  {
   "cell_type": "code",
   "execution_count": 68,
   "id": "c6387fbe-619a-465d-bdc0-572a1c76fca5",
   "metadata": {},
   "outputs": [
    {
     "data": {
      "text/plain": [
       "(True, True, False)"
      ]
     },
     "execution_count": 68,
     "metadata": {},
     "output_type": "execute_result"
    }
   ],
   "source": [
    "m>10, n>10, m<5 and n<5"
   ]
  },
  {
   "cell_type": "code",
   "execution_count": 69,
   "id": "dceb5f80-e00e-4b24-a491-56603fa8e617",
   "metadata": {},
   "outputs": [
    {
     "data": {
      "text/plain": [
       "True"
      ]
     },
     "execution_count": 69,
     "metadata": {},
     "output_type": "execute_result"
    }
   ],
   "source": [
    "n is not m"
   ]
  },
  {
   "cell_type": "code",
   "execution_count": 77,
   "id": "84ecd5af-6b6e-4866-9846-86496a20b3d0",
   "metadata": {},
   "outputs": [],
   "source": [
    "p= 'ananya'\n",
    "q='foundation'"
   ]
  },
  {
   "cell_type": "code",
   "execution_count": 78,
   "id": "9b2a1b63-e034-4637-a6c8-8831f2e95b52",
   "metadata": {},
   "outputs": [
    {
     "data": {
      "text/plain": [
       "False"
      ]
     },
     "execution_count": 78,
     "metadata": {},
     "output_type": "execute_result"
    }
   ],
   "source": [
    "p in q"
   ]
  },
  {
   "cell_type": "code",
   "execution_count": 79,
   "id": "ecdb3778-6998-4626-847c-52655600ebb6",
   "metadata": {},
   "outputs": [
    {
     "data": {
      "text/plain": [
       "False"
      ]
     },
     "execution_count": 79,
     "metadata": {},
     "output_type": "execute_result"
    }
   ],
   "source": [
    "q in p"
   ]
  },
  {
   "cell_type": "code",
   "execution_count": 80,
   "id": "c3f0bb9c-6dd1-4b63-b9c0-3fa814052ab2",
   "metadata": {},
   "outputs": [],
   "source": [
    "p= 'ananyafoundation '\n",
    "q='foundation'"
   ]
  },
  {
   "cell_type": "code",
   "execution_count": 81,
   "id": "fd8cdf10-1839-4ab9-bbb7-8faa8457a6f0",
   "metadata": {},
   "outputs": [
    {
     "data": {
      "text/plain": [
       "False"
      ]
     },
     "execution_count": 81,
     "metadata": {},
     "output_type": "execute_result"
    }
   ],
   "source": [
    "p in q"
   ]
  },
  {
   "cell_type": "code",
   "execution_count": 82,
   "id": "b8ea8fb8-c33b-4b93-ba57-e39c1d50560c",
   "metadata": {},
   "outputs": [
    {
     "data": {
      "text/plain": [
       "True"
      ]
     },
     "execution_count": 82,
     "metadata": {},
     "output_type": "execute_result"
    }
   ],
   "source": [
    "q in p"
   ]
  },
  {
   "cell_type": "markdown",
   "id": "f25dea76-bc6b-4120-9508-ed086b2b8e78",
   "metadata": {},
   "source": [
    "#Py DS"
   ]
  },
  {
   "cell_type": "code",
   "execution_count": 83,
   "id": "71730b56-c2f4-4291-b6e4-2393f7817f33",
   "metadata": {},
   "outputs": [
    {
     "data": {
      "text/plain": [
       "[1, 4, 5]"
      ]
     },
     "execution_count": 83,
     "metadata": {},
     "output_type": "execute_result"
    }
   ],
   "source": [
    "a_list = [1,4,5]\n",
    "a_list"
   ]
  },
  {
   "cell_type": "code",
   "execution_count": 84,
   "id": "f486b8bc-ba8d-44c8-9a30-a491f5a49df8",
   "metadata": {},
   "outputs": [
    {
     "data": {
      "text/plain": [
       "list"
      ]
     },
     "execution_count": 84,
     "metadata": {},
     "output_type": "execute_result"
    }
   ],
   "source": [
    "type(a_list)"
   ]
  },
  {
   "cell_type": "code",
   "execution_count": 94,
   "id": "8f21d317-590a-4137-973d-d8462c9f1a0d",
   "metadata": {},
   "outputs": [
    {
     "data": {
      "text/plain": [
       "(3, 5, 6)"
      ]
     },
     "execution_count": 94,
     "metadata": {},
     "output_type": "execute_result"
    }
   ],
   "source": [
    "a_tup=(3,5,6)\n",
    "a_tup"
   ]
  },
  {
   "cell_type": "code",
   "execution_count": 95,
   "id": "b0db8ade-d17b-4058-bd44-11f842b42b35",
   "metadata": {},
   "outputs": [
    {
     "data": {
      "text/plain": [
       "tuple"
      ]
     },
     "execution_count": 95,
     "metadata": {},
     "output_type": "execute_result"
    }
   ],
   "source": [
    "type(a_tup)"
   ]
  },
  {
   "cell_type": "code",
   "execution_count": 87,
   "id": "c5a1f0c2-67dd-41e7-98aa-5487eb3fc7fa",
   "metadata": {},
   "outputs": [
    {
     "data": {
      "text/plain": [
       "{4, 6, 22}"
      ]
     },
     "execution_count": 87,
     "metadata": {},
     "output_type": "execute_result"
    }
   ],
   "source": [
    "a_set={4,6,22}\n",
    "a_set"
   ]
  },
  {
   "cell_type": "code",
   "execution_count": 88,
   "id": "33be3fdc-fba4-440f-b585-1c01fc5c70b7",
   "metadata": {},
   "outputs": [
    {
     "data": {
      "text/plain": [
       "set"
      ]
     },
     "execution_count": 88,
     "metadata": {},
     "output_type": "execute_result"
    }
   ],
   "source": [
    "type(a_set)"
   ]
  },
  {
   "cell_type": "code",
   "execution_count": 92,
   "id": "a12145c4-148e-4151-a7af-f4528f3e9eae",
   "metadata": {},
   "outputs": [
    {
     "data": {
      "text/plain": [
       "{'a': 10, 'b': 20}"
      ]
     },
     "execution_count": 92,
     "metadata": {},
     "output_type": "execute_result"
    }
   ],
   "source": [
    "a_dictio = { 'a':10, 'b':20}\n",
    "a_dictio"
   ]
  },
  {
   "cell_type": "code",
   "execution_count": 93,
   "id": "cf154049-cf27-43ef-ba2d-ff9827ab9568",
   "metadata": {},
   "outputs": [
    {
     "data": {
      "text/plain": [
       "dict"
      ]
     },
     "execution_count": 93,
     "metadata": {},
     "output_type": "execute_result"
    }
   ],
   "source": [
    "type(a_dictio)"
   ]
  },
  {
   "cell_type": "code",
   "execution_count": null,
   "id": "57ac7eb2-c3ec-4fd7-bb22-20a605234e8d",
   "metadata": {},
   "outputs": [],
   "source": []
  }
 ],
 "metadata": {
  "kernelspec": {
   "display_name": "Python 3 (ipykernel)",
   "language": "python",
   "name": "python3"
  },
  "language_info": {
   "codemirror_mode": {
    "name": "ipython",
    "version": 3
   },
   "file_extension": ".py",
   "mimetype": "text/x-python",
   "name": "python",
   "nbconvert_exporter": "python",
   "pygments_lexer": "ipython3",
   "version": "3.11.5"
  }
 },
 "nbformat": 4,
 "nbformat_minor": 5
}
