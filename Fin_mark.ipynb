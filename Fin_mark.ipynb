{
 "cells": [
  {
   "cell_type": "markdown",
   "id": "a8d676fc",
   "metadata": {
    "papermill": {
     "duration": 0.011758,
     "end_time": "2023-06-22T15:13:10.373817",
     "exception": false,
     "start_time": "2023-06-22T15:13:10.362059",
     "status": "completed"
    },
    "tags": []
   },
   "source": [
    "# **Financial Market News Sentiment Analysis**"
   ]
  },
  {
   "cell_type": "markdown",
   "id": "eda6dc69",
   "metadata": {
    "papermill": {
     "duration": 0.010997,
     "end_time": "2023-06-22T15:13:10.396356",
     "exception": false,
     "start_time": "2023-06-22T15:13:10.385359",
     "status": "completed"
    },
    "tags": []
   },
   "source": [
    "## **Objective**"
   ]
  },
  {
   "cell_type": "markdown",
   "id": "e43939bd",
   "metadata": {
    "papermill": {
     "duration": 0.011016,
     "end_time": "2023-06-22T15:13:10.418663",
     "exception": false,
     "start_time": "2023-06-22T15:13:10.407647",
     "status": "completed"
    },
    "tags": []
   },
   "source": [
    "The objective of this project is to perform sentiment analysis on top 25 financial news(fictional data) using suitable classification algorithms."
   ]
  },
  {
   "cell_type": "markdown",
   "id": "b5d1e7be",
   "metadata": {
    "papermill": {
     "duration": 0.010967,
     "end_time": "2023-06-22T15:13:10.440816",
     "exception": false,
     "start_time": "2023-06-22T15:13:10.429849",
     "status": "completed"
    },
    "tags": []
   },
   "source": [
    "### Data Source: \n",
    "The data is available on the Git Hub repository of YBI Foundation.\n",
    "Link: https://github.com/YBI-Foundation/Dataset/blob/main/Financial%20Market%20News.csv"
   ]
  },
  {
   "cell_type": "markdown",
   "id": "fb74f694",
   "metadata": {
    "papermill": {
     "duration": 0.01102,
     "end_time": "2023-06-22T15:13:10.463152",
     "exception": false,
     "start_time": "2023-06-22T15:13:10.452132",
     "status": "completed"
    },
    "tags": []
   },
   "source": [
    "### Import Library"
   ]
  },
  {
   "cell_type": "code",
   "execution_count": 1,
   "id": "f8c6f2d1",
   "metadata": {
    "execution": {
     "iopub.execute_input": "2023-06-22T15:13:10.487662Z",
     "iopub.status.busy": "2023-06-22T15:13:10.487051Z",
     "iopub.status.idle": "2023-06-22T15:13:10.496313Z",
     "shell.execute_reply": "2023-06-22T15:13:10.495268Z"
    },
    "papermill": {
     "duration": 0.023951,
     "end_time": "2023-06-22T15:13:10.498339",
     "exception": false,
     "start_time": "2023-06-22T15:13:10.474388",
     "status": "completed"
    },
    "tags": []
   },
   "outputs": [],
   "source": [
    "import pandas as pd"
   ]
  },
  {
   "cell_type": "code",
   "execution_count": 2,
   "id": "67770a84",
   "metadata": {
    "execution": {
     "iopub.execute_input": "2023-06-22T15:13:10.522595Z",
     "iopub.status.busy": "2023-06-22T15:13:10.522262Z",
     "iopub.status.idle": "2023-06-22T15:13:10.526634Z",
     "shell.execute_reply": "2023-06-22T15:13:10.525653Z"
    },
    "id": "EMoYT5yBRV2E",
    "papermill": {
     "duration": 0.019005,
     "end_time": "2023-06-22T15:13:10.528796",
     "exception": false,
     "start_time": "2023-06-22T15:13:10.509791",
     "status": "completed"
    },
    "tags": []
   },
   "outputs": [],
   "source": [
    "import numpy as np"
   ]
  },
  {
   "cell_type": "markdown",
   "id": "7eb05dba",
   "metadata": {
    "papermill": {
     "duration": 0.011154,
     "end_time": "2023-06-22T15:13:10.551965",
     "exception": false,
     "start_time": "2023-06-22T15:13:10.540811",
     "status": "completed"
    },
    "tags": []
   },
   "source": [
    "### Import Data"
   ]
  },
  {
   "cell_type": "code",
   "execution_count": 3,
   "id": "1635c305",
   "metadata": {
    "execution": {
     "iopub.execute_input": "2023-06-22T15:13:10.576607Z",
     "iopub.status.busy": "2023-06-22T15:13:10.575853Z",
     "iopub.status.idle": "2023-06-22T15:13:10.799348Z",
     "shell.execute_reply": "2023-06-22T15:13:10.798184Z"
    },
    "id": "CsQ3wI6jRXLe",
    "papermill": {
     "duration": 0.239171,
     "end_time": "2023-06-22T15:13:10.802486",
     "exception": false,
     "start_time": "2023-06-22T15:13:10.563315",
     "status": "completed"
    },
    "tags": []
   },
   "outputs": [],
   "source": [
    "df = pd.read_csv(r'/kaggle/input/financial-market-dataset-fictional/YBI-Foundation_Dataset_main_Financial_Market_News.csv', encoding = \"ISO-8859-1\")"
   ]
  },
  {
   "cell_type": "markdown",
   "id": "5bdfd14c",
   "metadata": {
    "papermill": {
     "duration": 0.014562,
     "end_time": "2023-06-22T15:13:10.829110",
     "exception": false,
     "start_time": "2023-06-22T15:13:10.814548",
     "status": "completed"
    },
    "tags": []
   },
   "source": [
    "### Describe Data"
   ]
  },
  {
   "cell_type": "code",
   "execution_count": 4,
   "id": "06696191",
   "metadata": {
    "execution": {
     "iopub.execute_input": "2023-06-22T15:13:10.858621Z",
     "iopub.status.busy": "2023-06-22T15:13:10.857476Z",
     "iopub.status.idle": "2023-06-22T15:13:10.898724Z",
     "shell.execute_reply": "2023-06-22T15:13:10.898035Z"
    },
    "id": "mgcMf2aDYDlQ",
    "outputId": "ed211974-435e-4a94-958a-d938bb5e98ae",
    "papermill": {
     "duration": 0.057175,
     "end_time": "2023-06-22T15:13:10.901356",
     "exception": false,
     "start_time": "2023-06-22T15:13:10.844181",
     "status": "completed"
    },
    "tags": []
   },
   "outputs": [
    {
     "data": {
      "text/html": [
       "<div>\n",
       "<style scoped>\n",
       "    .dataframe tbody tr th:only-of-type {\n",
       "        vertical-align: middle;\n",
       "    }\n",
       "\n",
       "    .dataframe tbody tr th {\n",
       "        vertical-align: top;\n",
       "    }\n",
       "\n",
       "    .dataframe thead th {\n",
       "        text-align: right;\n",
       "    }\n",
       "</style>\n",
       "<table border=\"1\" class=\"dataframe\">\n",
       "  <thead>\n",
       "    <tr style=\"text-align: right;\">\n",
       "      <th></th>\n",
       "      <th>Date</th>\n",
       "      <th>Label</th>\n",
       "      <th>News 1</th>\n",
       "      <th>News 2</th>\n",
       "      <th>News 3</th>\n",
       "      <th>News 4</th>\n",
       "      <th>News 5</th>\n",
       "      <th>News 6</th>\n",
       "      <th>News 7</th>\n",
       "      <th>News 8</th>\n",
       "      <th>...</th>\n",
       "      <th>News 16</th>\n",
       "      <th>News 17</th>\n",
       "      <th>News 18</th>\n",
       "      <th>News 19</th>\n",
       "      <th>News 20</th>\n",
       "      <th>News 21</th>\n",
       "      <th>News 22</th>\n",
       "      <th>News 23</th>\n",
       "      <th>News 24</th>\n",
       "      <th>News 25</th>\n",
       "    </tr>\n",
       "  </thead>\n",
       "  <tbody>\n",
       "    <tr>\n",
       "      <th>0</th>\n",
       "      <td>01-01-2010</td>\n",
       "      <td>0</td>\n",
       "      <td>McIlroy's men catch cold from Gudjonsson</td>\n",
       "      <td>Obituary: Brian Walsh</td>\n",
       "      <td>Workplace blues leave employers in the red</td>\n",
       "      <td>Classical review: Rattle</td>\n",
       "      <td>Dance review: Merce Cunningham</td>\n",
       "      <td>Genetic tests to be used in setting premiums</td>\n",
       "      <td>Opera review: La Bohème</td>\n",
       "      <td>Pop review: Britney Spears</td>\n",
       "      <td>...</td>\n",
       "      <td>Finland 0 - 0 England</td>\n",
       "      <td>Healy a marked man</td>\n",
       "      <td>Happy birthday Harpers &amp; Queen</td>\n",
       "      <td>Win unlimited access to the Raindance film fes...</td>\n",
       "      <td>Labour pledges £800m to bridge north-south divide</td>\n",
       "      <td>Wales: Lib-Lab pact firm despite resignation</td>\n",
       "      <td>Donald Dewar</td>\n",
       "      <td>Regenerating homes  regenerates well-being in ...</td>\n",
       "      <td>Win £100 worth of underwear</td>\n",
       "      <td>TV guide: Random views</td>\n",
       "    </tr>\n",
       "    <tr>\n",
       "      <th>1</th>\n",
       "      <td>02-01-2010</td>\n",
       "      <td>0</td>\n",
       "      <td>Warning from history points to crash</td>\n",
       "      <td>Investors flee to dollar haven</td>\n",
       "      <td>Banks and tobacco in favour</td>\n",
       "      <td>Review: Llama Farmers</td>\n",
       "      <td>War jitters lead to sell-off</td>\n",
       "      <td>Your not-so-secret history</td>\n",
       "      <td>Review: The Northern Sinfonia</td>\n",
       "      <td>Review: Hysteria</td>\n",
       "      <td>...</td>\n",
       "      <td>Why Wenger will stick to his Gunners</td>\n",
       "      <td>Out of luck England hit rock bottom</td>\n",
       "      <td>Wilkinson out of his depth</td>\n",
       "      <td>Kinsella sparks Irish power play</td>\n",
       "      <td>Brown banished as Scots rebound</td>\n",
       "      <td>Battling Wales cling to lifeline</td>\n",
       "      <td>Ehiogu close to sealing Boro move</td>\n",
       "      <td>Man-to-man marking</td>\n",
       "      <td>Match stats</td>\n",
       "      <td>French referee at centre of storm is no strang...</td>\n",
       "    </tr>\n",
       "    <tr>\n",
       "      <th>2</th>\n",
       "      <td>03-01-2010</td>\n",
       "      <td>0</td>\n",
       "      <td>Comment: Why Israel's peaceniks feel betrayed</td>\n",
       "      <td>Court deals blow to seizure of drug assets</td>\n",
       "      <td>An ideal target for spooks</td>\n",
       "      <td>World steps between two sides intent on war</td>\n",
       "      <td>What the region's papers say</td>\n",
       "      <td>Comment: Fear and rage in Palestine</td>\n",
       "      <td>Poverty and resentment fuels Palestinian fury</td>\n",
       "      <td>Republican feud fear as dissident is killed</td>\n",
       "      <td>...</td>\n",
       "      <td>FTSE goes upwardly mobile</td>\n",
       "      <td>At this price?  BP Amoco</td>\n",
       "      <td>Go fish</td>\n",
       "      <td>Bosnian Serb blows himself up to evade law</td>\n",
       "      <td>Orange float delayed to 2001</td>\n",
       "      <td>Angry factory workers root out fear, favours a...</td>\n",
       "      <td>Smith defied advice on dome payout</td>\n",
       "      <td>Xerox takes the axe to jobs</td>\n",
       "      <td>Comment: Refugees in Britain</td>\n",
       "      <td>Maverick who sparked the new intifada</td>\n",
       "    </tr>\n",
       "    <tr>\n",
       "      <th>3</th>\n",
       "      <td>04-01-2010</td>\n",
       "      <td>1</td>\n",
       "      <td>£750,000-a-goal Weah aims parting shot</td>\n",
       "      <td>Newcastle pay for Fletcher years</td>\n",
       "      <td>Brown sent to the stands for Scotland qualifier</td>\n",
       "      <td>Tourists wary of breaking new ground</td>\n",
       "      <td>Canary Wharf climbs into the FTSE 100</td>\n",
       "      <td>Review: Bill Bailey</td>\n",
       "      <td>Review: Classical</td>\n",
       "      <td>Review: New Contemporaries 2000</td>\n",
       "      <td>...</td>\n",
       "      <td>More cash on way for counties</td>\n",
       "      <td>Cairns carries Kiwis to victory</td>\n",
       "      <td>Year of Blanchflower's flourish when Spurs sto...</td>\n",
       "      <td>New direct approach brings only pay-per-blues</td>\n",
       "      <td>Third Division  round-up</td>\n",
       "      <td>Second Division  round-up</td>\n",
       "      <td>First Division  round-up</td>\n",
       "      <td>McLean ends his career with a punch</td>\n",
       "      <td>Heskey grabs triple crown</td>\n",
       "      <td>Weah on his way as City march on</td>\n",
       "    </tr>\n",
       "    <tr>\n",
       "      <th>4</th>\n",
       "      <td>05-01-2010</td>\n",
       "      <td>1</td>\n",
       "      <td>Leeds arrive in Turkey to the silence of the fans</td>\n",
       "      <td>One woman's vision offers loan lifeline</td>\n",
       "      <td>Working Lives: How world leaders worked</td>\n",
       "      <td>Working Lives: Tricks of the trade</td>\n",
       "      <td>Working Lives: six-hour days, long lunches and...</td>\n",
       "      <td>Pop review: We Love UK</td>\n",
       "      <td>World music review: Marisa Monte</td>\n",
       "      <td>Art review:  Hollingsworth/Heyer</td>\n",
       "      <td>...</td>\n",
       "      <td>Duisenberg in double trouble</td>\n",
       "      <td>Pru to cut pension charges</td>\n",
       "      <td>Art review: Paul Graham</td>\n",
       "      <td>Shearer shot sparks Boro humiliation</td>\n",
       "      <td>Ridsdale's lingering fears as Leeds revisit Tu...</td>\n",
       "      <td>Champions League: Rangers v Galatasaray</td>\n",
       "      <td>Champions League: Lazio v Arsenal</td>\n",
       "      <td>Lazio 1 - 1 Arsenal</td>\n",
       "      <td>England in Pakistan</td>\n",
       "      <td>England given olive-branch reception</td>\n",
       "    </tr>\n",
       "  </tbody>\n",
       "</table>\n",
       "<p>5 rows × 27 columns</p>\n",
       "</div>"
      ],
      "text/plain": [
       "         Date  Label                                             News 1  \\\n",
       "0  01-01-2010      0           McIlroy's men catch cold from Gudjonsson   \n",
       "1  02-01-2010      0               Warning from history points to crash   \n",
       "2  03-01-2010      0      Comment: Why Israel's peaceniks feel betrayed   \n",
       "3  04-01-2010      1             £750,000-a-goal Weah aims parting shot   \n",
       "4  05-01-2010      1  Leeds arrive in Turkey to the silence of the fans   \n",
       "\n",
       "                                       News 2  \\\n",
       "0                       Obituary: Brian Walsh   \n",
       "1              Investors flee to dollar haven   \n",
       "2  Court deals blow to seizure of drug assets   \n",
       "3            Newcastle pay for Fletcher years   \n",
       "4     One woman's vision offers loan lifeline   \n",
       "\n",
       "                                            News 3  \\\n",
       "0       Workplace blues leave employers in the red   \n",
       "1                      Banks and tobacco in favour   \n",
       "2                       An ideal target for spooks   \n",
       "3  Brown sent to the stands for Scotland qualifier   \n",
       "4          Working Lives: How world leaders worked   \n",
       "\n",
       "                                        News 4  \\\n",
       "0                     Classical review: Rattle   \n",
       "1                        Review: Llama Farmers   \n",
       "2  World steps between two sides intent on war   \n",
       "3         Tourists wary of breaking new ground   \n",
       "4           Working Lives: Tricks of the trade   \n",
       "\n",
       "                                              News 5  \\\n",
       "0                     Dance review: Merce Cunningham   \n",
       "1                       War jitters lead to sell-off   \n",
       "2                       What the region's papers say   \n",
       "3              Canary Wharf climbs into the FTSE 100   \n",
       "4  Working Lives: six-hour days, long lunches and...   \n",
       "\n",
       "                                         News 6  \\\n",
       "0  Genetic tests to be used in setting premiums   \n",
       "1                    Your not-so-secret history   \n",
       "2           Comment: Fear and rage in Palestine   \n",
       "3                           Review: Bill Bailey   \n",
       "4                        Pop review: We Love UK   \n",
       "\n",
       "                                          News 7  \\\n",
       "0                        Opera review: La Bohème   \n",
       "1                  Review: The Northern Sinfonia   \n",
       "2  Poverty and resentment fuels Palestinian fury   \n",
       "3                              Review: Classical   \n",
       "4               World music review: Marisa Monte   \n",
       "\n",
       "                                        News 8  ...  \\\n",
       "0                   Pop review: Britney Spears  ...   \n",
       "1                             Review: Hysteria  ...   \n",
       "2  Republican feud fear as dissident is killed  ...   \n",
       "3              Review: New Contemporaries 2000  ...   \n",
       "4             Art review:  Hollingsworth/Heyer  ...   \n",
       "\n",
       "                                News 16                              News 17  \\\n",
       "0                 Finland 0 - 0 England                   Healy a marked man   \n",
       "1  Why Wenger will stick to his Gunners  Out of luck England hit rock bottom   \n",
       "2             FTSE goes upwardly mobile             At this price?  BP Amoco   \n",
       "3         More cash on way for counties      Cairns carries Kiwis to victory   \n",
       "4          Duisenberg in double trouble           Pru to cut pension charges   \n",
       "\n",
       "                                             News 18  \\\n",
       "0                     Happy birthday Harpers & Queen   \n",
       "1                         Wilkinson out of his depth   \n",
       "2                                            Go fish   \n",
       "3  Year of Blanchflower's flourish when Spurs sto...   \n",
       "4                            Art review: Paul Graham   \n",
       "\n",
       "                                             News 19  \\\n",
       "0  Win unlimited access to the Raindance film fes...   \n",
       "1                   Kinsella sparks Irish power play   \n",
       "2         Bosnian Serb blows himself up to evade law   \n",
       "3      New direct approach brings only pay-per-blues   \n",
       "4               Shearer shot sparks Boro humiliation   \n",
       "\n",
       "                                             News 20  \\\n",
       "0  Labour pledges £800m to bridge north-south divide   \n",
       "1                    Brown banished as Scots rebound   \n",
       "2                       Orange float delayed to 2001   \n",
       "3                           Third Division  round-up   \n",
       "4  Ridsdale's lingering fears as Leeds revisit Tu...   \n",
       "\n",
       "                                             News 21  \\\n",
       "0       Wales: Lib-Lab pact firm despite resignation   \n",
       "1                   Battling Wales cling to lifeline   \n",
       "2  Angry factory workers root out fear, favours a...   \n",
       "3                          Second Division  round-up   \n",
       "4            Champions League: Rangers v Galatasaray   \n",
       "\n",
       "                              News 22  \\\n",
       "0                        Donald Dewar   \n",
       "1   Ehiogu close to sealing Boro move   \n",
       "2  Smith defied advice on dome payout   \n",
       "3            First Division  round-up   \n",
       "4   Champions League: Lazio v Arsenal   \n",
       "\n",
       "                                             News 23  \\\n",
       "0  Regenerating homes  regenerates well-being in ...   \n",
       "1                                 Man-to-man marking   \n",
       "2                        Xerox takes the axe to jobs   \n",
       "3                McLean ends his career with a punch   \n",
       "4                                Lazio 1 - 1 Arsenal   \n",
       "\n",
       "                        News 24  \\\n",
       "0   Win £100 worth of underwear   \n",
       "1                   Match stats   \n",
       "2  Comment: Refugees in Britain   \n",
       "3     Heskey grabs triple crown   \n",
       "4           England in Pakistan   \n",
       "\n",
       "                                             News 25  \n",
       "0                             TV guide: Random views  \n",
       "1  French referee at centre of storm is no strang...  \n",
       "2              Maverick who sparked the new intifada  \n",
       "3                   Weah on his way as City march on  \n",
       "4               England given olive-branch reception  \n",
       "\n",
       "[5 rows x 27 columns]"
      ]
     },
     "execution_count": 4,
     "metadata": {},
     "output_type": "execute_result"
    }
   ],
   "source": [
    "df.head()"
   ]
  },
  {
   "cell_type": "code",
   "execution_count": 5,
   "id": "c0415fb5",
   "metadata": {
    "execution": {
     "iopub.execute_input": "2023-06-22T15:13:10.927950Z",
     "iopub.status.busy": "2023-06-22T15:13:10.927433Z",
     "iopub.status.idle": "2023-06-22T15:13:10.967032Z",
     "shell.execute_reply": "2023-06-22T15:13:10.965810Z"
    },
    "id": "rDgHjVi1ZXZB",
    "outputId": "23fb6a70-8c83-4730-f1fb-96f65d702c0e",
    "papermill": {
     "duration": 0.056169,
     "end_time": "2023-06-22T15:13:10.969996",
     "exception": false,
     "start_time": "2023-06-22T15:13:10.913827",
     "status": "completed"
    },
    "tags": []
   },
   "outputs": [
    {
     "name": "stdout",
     "output_type": "stream",
     "text": [
      "<class 'pandas.core.frame.DataFrame'>\n",
      "RangeIndex: 4101 entries, 0 to 4100\n",
      "Data columns (total 27 columns):\n",
      " #   Column   Non-Null Count  Dtype \n",
      "---  ------   --------------  ----- \n",
      " 0   Date     4101 non-null   object\n",
      " 1   Label    4101 non-null   int64 \n",
      " 2   News 1   4101 non-null   object\n",
      " 3   News 2   4101 non-null   object\n",
      " 4   News 3   4101 non-null   object\n",
      " 5   News 4   4101 non-null   object\n",
      " 6   News 5   4101 non-null   object\n",
      " 7   News 6   4101 non-null   object\n",
      " 8   News 7   4101 non-null   object\n",
      " 9   News 8   4101 non-null   object\n",
      " 10  News 9   4101 non-null   object\n",
      " 11  News 10  4101 non-null   object\n",
      " 12  News 11  4101 non-null   object\n",
      " 13  News 12  4101 non-null   object\n",
      " 14  News 13  4101 non-null   object\n",
      " 15  News 14  4101 non-null   object\n",
      " 16  News 15  4101 non-null   object\n",
      " 17  News 16  4101 non-null   object\n",
      " 18  News 17  4101 non-null   object\n",
      " 19  News 18  4101 non-null   object\n",
      " 20  News 19  4101 non-null   object\n",
      " 21  News 20  4101 non-null   object\n",
      " 22  News 21  4101 non-null   object\n",
      " 23  News 22  4101 non-null   object\n",
      " 24  News 23  4100 non-null   object\n",
      " 25  News 24  4098 non-null   object\n",
      " 26  News 25  4098 non-null   object\n",
      "dtypes: int64(1), object(26)\n",
      "memory usage: 865.2+ KB\n"
     ]
    }
   ],
   "source": [
    "df.info()"
   ]
  },
  {
   "cell_type": "code",
   "execution_count": 6,
   "id": "043db8fd",
   "metadata": {
    "execution": {
     "iopub.execute_input": "2023-06-22T15:13:10.996316Z",
     "iopub.status.busy": "2023-06-22T15:13:10.995570Z",
     "iopub.status.idle": "2023-06-22T15:13:11.001043Z",
     "shell.execute_reply": "2023-06-22T15:13:11.000351Z"
    },
    "id": "-o6fEGkoZlF0",
    "outputId": "275df04e-85c6-4f0b-b061-1583c4d94ccb",
    "papermill": {
     "duration": 0.020323,
     "end_time": "2023-06-22T15:13:11.002789",
     "exception": false,
     "start_time": "2023-06-22T15:13:10.982466",
     "status": "completed"
    },
    "tags": []
   },
   "outputs": [
    {
     "data": {
      "text/plain": [
       "(4101, 27)"
      ]
     },
     "execution_count": 6,
     "metadata": {},
     "output_type": "execute_result"
    }
   ],
   "source": [
    "df.shape"
   ]
  },
  {
   "cell_type": "code",
   "execution_count": 7,
   "id": "93fdc68a",
   "metadata": {
    "execution": {
     "iopub.execute_input": "2023-06-22T15:13:11.029087Z",
     "iopub.status.busy": "2023-06-22T15:13:11.028527Z",
     "iopub.status.idle": "2023-06-22T15:13:11.033633Z",
     "shell.execute_reply": "2023-06-22T15:13:11.032964Z"
    },
    "id": "zVzcLtm2ZqrZ",
    "outputId": "a83a3d1d-b8f1-42c7-a9c5-61fcfb05aa17",
    "papermill": {
     "duration": 0.020014,
     "end_time": "2023-06-22T15:13:11.035377",
     "exception": false,
     "start_time": "2023-06-22T15:13:11.015363",
     "status": "completed"
    },
    "tags": []
   },
   "outputs": [
    {
     "data": {
      "text/plain": [
       "Index(['Date', 'Label', 'News 1', 'News 2', 'News 3', 'News 4', 'News 5',\n",
       "       'News 6', 'News 7', 'News 8', 'News 9', 'News 10', 'News 11', 'News 12',\n",
       "       'News 13', 'News 14', 'News 15', 'News 16', 'News 17', 'News 18',\n",
       "       'News 19', 'News 20', 'News 21', 'News 22', 'News 23', 'News 24',\n",
       "       'News 25'],\n",
       "      dtype='object')"
      ]
     },
     "execution_count": 7,
     "metadata": {},
     "output_type": "execute_result"
    }
   ],
   "source": [
    "df.columns"
   ]
  },
  {
   "cell_type": "markdown",
   "id": "8b421fb7",
   "metadata": {
    "papermill": {
     "duration": 0.011842,
     "end_time": "2023-06-22T15:13:11.059504",
     "exception": false,
     "start_time": "2023-06-22T15:13:11.047662",
     "status": "completed"
    },
    "tags": []
   },
   "source": [
    "### Data Preprocessing"
   ]
  },
  {
   "cell_type": "code",
   "execution_count": 8,
   "id": "f4184228",
   "metadata": {
    "execution": {
     "iopub.execute_input": "2023-06-22T15:13:11.088985Z",
     "iopub.status.busy": "2023-06-22T15:13:11.087681Z",
     "iopub.status.idle": "2023-06-22T15:13:11.096728Z",
     "shell.execute_reply": "2023-06-22T15:13:11.096010Z"
    },
    "id": "WZZ0jpgCZtD9",
    "outputId": "4f7c1c02-4cb0-4160-ce5d-119f1c3f771b",
    "papermill": {
     "duration": 0.026966,
     "end_time": "2023-06-22T15:13:11.098602",
     "exception": false,
     "start_time": "2023-06-22T15:13:11.071636",
     "status": "completed"
    },
    "tags": []
   },
   "outputs": [
    {
     "data": {
      "text/plain": [
       "\"Warning from history points to crash Investors flee to dollar haven Banks and tobacco in favour Review: Llama Farmers War jitters lead to sell-off Your not-so-secret history Review: The Northern Sinfonia Review: Hysteria Review: The Guardsman Opera: The Marriage of Figaro Review: The Turk in Italy Deutsche spells out its plans for diversification Traders' panic sends oil prices skyward TV sport chief leaves home over romance Leader: Hi-tech twitch Why Wenger will stick to his Gunners Out of luck England hit rock bottom Wilkinson out of his depth Kinsella sparks Irish power play Brown banished as Scots rebound Battling Wales cling to lifeline Ehiogu close to sealing Boro move Man-to-man marking Match stats French referee at centre of storm is no stranger to controversy\""
      ]
     },
     "execution_count": 8,
     "metadata": {},
     "output_type": "execute_result"
    }
   ],
   "source": [
    "' '.join(str(x) for x in df.iloc[1,2:27])"
   ]
  },
  {
   "cell_type": "code",
   "execution_count": 9,
   "id": "99453409",
   "metadata": {
    "execution": {
     "iopub.execute_input": "2023-06-22T15:13:11.129157Z",
     "iopub.status.busy": "2023-06-22T15:13:11.128536Z",
     "iopub.status.idle": "2023-06-22T15:13:11.134703Z",
     "shell.execute_reply": "2023-06-22T15:13:11.133711Z"
    },
    "id": "ko1lAVY9Z2Vn",
    "outputId": "570f9572-e76a-4b14-eb52-44e3f644aff1",
    "papermill": {
     "duration": 0.022368,
     "end_time": "2023-06-22T15:13:11.136567",
     "exception": false,
     "start_time": "2023-06-22T15:13:11.114199",
     "status": "completed"
    },
    "tags": []
   },
   "outputs": [
    {
     "data": {
      "text/plain": [
       "RangeIndex(start=0, stop=4101, step=1)"
      ]
     },
     "execution_count": 9,
     "metadata": {},
     "output_type": "execute_result"
    }
   ],
   "source": [
    "df.index"
   ]
  },
  {
   "cell_type": "code",
   "execution_count": 10,
   "id": "be8a12c6",
   "metadata": {
    "execution": {
     "iopub.execute_input": "2023-06-22T15:13:11.163588Z",
     "iopub.status.busy": "2023-06-22T15:13:11.162942Z",
     "iopub.status.idle": "2023-06-22T15:13:11.168742Z",
     "shell.execute_reply": "2023-06-22T15:13:11.167903Z"
    },
    "id": "LcmUpFGUZ5Kk",
    "outputId": "ab956748-43fd-4a12-b251-d105c1da4d85",
    "papermill": {
     "duration": 0.021479,
     "end_time": "2023-06-22T15:13:11.170734",
     "exception": false,
     "start_time": "2023-06-22T15:13:11.149255",
     "status": "completed"
    },
    "tags": []
   },
   "outputs": [
    {
     "data": {
      "text/plain": [
       "4101"
      ]
     },
     "execution_count": 10,
     "metadata": {},
     "output_type": "execute_result"
    }
   ],
   "source": [
    "len(df.index)"
   ]
  },
  {
   "cell_type": "code",
   "execution_count": 11,
   "id": "8d5be584",
   "metadata": {
    "execution": {
     "iopub.execute_input": "2023-06-22T15:13:11.199923Z",
     "iopub.status.busy": "2023-06-22T15:13:11.199391Z",
     "iopub.status.idle": "2023-06-22T15:13:11.202764Z",
     "shell.execute_reply": "2023-06-22T15:13:11.202143Z"
    },
    "id": "MMRyJi3GZ9gj",
    "papermill": {
     "duration": 0.019158,
     "end_time": "2023-06-22T15:13:11.204590",
     "exception": false,
     "start_time": "2023-06-22T15:13:11.185432",
     "status": "completed"
    },
    "tags": []
   },
   "outputs": [],
   "source": [
    "news = []"
   ]
  },
  {
   "cell_type": "code",
   "execution_count": 12,
   "id": "09b4dcab",
   "metadata": {
    "execution": {
     "iopub.execute_input": "2023-06-22T15:13:11.231333Z",
     "iopub.status.busy": "2023-06-22T15:13:11.230809Z",
     "iopub.status.idle": "2023-06-22T15:13:11.959134Z",
     "shell.execute_reply": "2023-06-22T15:13:11.958043Z"
    },
    "id": "621bBbKRaF09",
    "papermill": {
     "duration": 0.744464,
     "end_time": "2023-06-22T15:13:11.961650",
     "exception": false,
     "start_time": "2023-06-22T15:13:11.217186",
     "status": "completed"
    },
    "tags": []
   },
   "outputs": [],
   "source": [
    "for row in range(0, len(df.index)):\n",
    "  news.append(' '.join(str(x) for x in df.iloc[row, 2:27]))"
   ]
  },
  {
   "cell_type": "code",
   "execution_count": 13,
   "id": "ebed772d",
   "metadata": {
    "execution": {
     "iopub.execute_input": "2023-06-22T15:13:11.988717Z",
     "iopub.status.busy": "2023-06-22T15:13:11.988336Z",
     "iopub.status.idle": "2023-06-22T15:13:11.994436Z",
     "shell.execute_reply": "2023-06-22T15:13:11.993421Z"
    },
    "id": "FnQYU3zBaTnT",
    "outputId": "0d3b7180-5785-4e3d-d30c-d00091a77057",
    "papermill": {
     "duration": 0.021996,
     "end_time": "2023-06-22T15:13:11.996421",
     "exception": false,
     "start_time": "2023-06-22T15:13:11.974425",
     "status": "completed"
    },
    "tags": []
   },
   "outputs": [
    {
     "data": {
      "text/plain": [
       "list"
      ]
     },
     "execution_count": 13,
     "metadata": {},
     "output_type": "execute_result"
    }
   ],
   "source": [
    "type(news)"
   ]
  },
  {
   "cell_type": "code",
   "execution_count": 14,
   "id": "7d6a77b5",
   "metadata": {
    "execution": {
     "iopub.execute_input": "2023-06-22T15:13:12.024165Z",
     "iopub.status.busy": "2023-06-22T15:13:12.023322Z",
     "iopub.status.idle": "2023-06-22T15:13:12.028803Z",
     "shell.execute_reply": "2023-06-22T15:13:12.028171Z"
    },
    "id": "lntcWR8caVTU",
    "outputId": "62ca0088-10d3-4e57-ecde-4b7dd933047e",
    "papermill": {
     "duration": 0.021218,
     "end_time": "2023-06-22T15:13:12.030490",
     "exception": false,
     "start_time": "2023-06-22T15:13:12.009272",
     "status": "completed"
    },
    "tags": []
   },
   "outputs": [
    {
     "data": {
      "text/plain": [
       "\"McIlroy's men catch cold from Gudjonsson Obituary: Brian Walsh Workplace blues leave employers in the red Classical review: Rattle Dance review: Merce Cunningham Genetic tests to be used in setting premiums Opera review: La Bohème Pop review: Britney Spears Theatre review: The Circle Wales face a fraught night Under-21  round-up Smith off to blot his copybook Finns taking the mickey Praise wasted as Brown studies injury options Ireland wary of minnows Finland 0 - 0 England Healy a marked man Happy birthday Harpers & Queen Win unlimited access to the Raindance film festival Labour pledges £800m to bridge north-south divide Wales: Lib-Lab pact firm despite resignation Donald Dewar Regenerating homes  regenerates well-being in people Win £100 worth of underwear TV guide: Random views\""
      ]
     },
     "execution_count": 14,
     "metadata": {},
     "output_type": "execute_result"
    }
   ],
   "source": [
    "news[0]"
   ]
  },
  {
   "cell_type": "code",
   "execution_count": 15,
   "id": "9511bb2e",
   "metadata": {
    "execution": {
     "iopub.execute_input": "2023-06-22T15:13:12.057411Z",
     "iopub.status.busy": "2023-06-22T15:13:12.056758Z",
     "iopub.status.idle": "2023-06-22T15:13:12.061316Z",
     "shell.execute_reply": "2023-06-22T15:13:12.060469Z"
    },
    "id": "IszecLQ8aXtR",
    "papermill": {
     "duration": 0.02014,
     "end_time": "2023-06-22T15:13:12.063319",
     "exception": false,
     "start_time": "2023-06-22T15:13:12.043179",
     "status": "completed"
    },
    "tags": []
   },
   "outputs": [],
   "source": [
    "X = news"
   ]
  },
  {
   "cell_type": "code",
   "execution_count": 16,
   "id": "6a68dcc6",
   "metadata": {
    "execution": {
     "iopub.execute_input": "2023-06-22T15:13:12.090716Z",
     "iopub.status.busy": "2023-06-22T15:13:12.090384Z",
     "iopub.status.idle": "2023-06-22T15:13:12.095719Z",
     "shell.execute_reply": "2023-06-22T15:13:12.094811Z"
    },
    "id": "eoZBc-B3ab7g",
    "outputId": "ad978165-9fb2-4f28-da96-6ca93ab2739d",
    "papermill": {
     "duration": 0.021409,
     "end_time": "2023-06-22T15:13:12.097815",
     "exception": false,
     "start_time": "2023-06-22T15:13:12.076406",
     "status": "completed"
    },
    "tags": []
   },
   "outputs": [
    {
     "data": {
      "text/plain": [
       "list"
      ]
     },
     "execution_count": 16,
     "metadata": {},
     "output_type": "execute_result"
    }
   ],
   "source": [
    "type(X)"
   ]
  },
  {
   "cell_type": "markdown",
   "id": "f1a69467",
   "metadata": {
    "papermill": {
     "duration": 0.012545,
     "end_time": "2023-06-22T15:13:12.123409",
     "exception": false,
     "start_time": "2023-06-22T15:13:12.110864",
     "status": "completed"
    },
    "tags": []
   },
   "source": [
    "### Define Target Variable (y) and Feature Variables (X)"
   ]
  },
  {
   "cell_type": "code",
   "execution_count": 17,
   "id": "84fc32a2",
   "metadata": {
    "execution": {
     "iopub.execute_input": "2023-06-22T15:13:12.150964Z",
     "iopub.status.busy": "2023-06-22T15:13:12.150624Z",
     "iopub.status.idle": "2023-06-22T15:13:13.318614Z",
     "shell.execute_reply": "2023-06-22T15:13:13.317783Z"
    },
    "id": "kaBeqaXZaehh",
    "papermill": {
     "duration": 1.1847,
     "end_time": "2023-06-22T15:13:13.321093",
     "exception": false,
     "start_time": "2023-06-22T15:13:12.136393",
     "status": "completed"
    },
    "tags": []
   },
   "outputs": [],
   "source": [
    "from sklearn.feature_extraction.text import CountVectorizer"
   ]
  },
  {
   "cell_type": "code",
   "execution_count": 18,
   "id": "648b870d",
   "metadata": {
    "execution": {
     "iopub.execute_input": "2023-06-22T15:13:13.349363Z",
     "iopub.status.busy": "2023-06-22T15:13:13.348952Z",
     "iopub.status.idle": "2023-06-22T15:13:13.353354Z",
     "shell.execute_reply": "2023-06-22T15:13:13.352378Z"
    },
    "id": "z_21apjNalAI",
    "papermill": {
     "duration": 0.021145,
     "end_time": "2023-06-22T15:13:13.355310",
     "exception": false,
     "start_time": "2023-06-22T15:13:13.334165",
     "status": "completed"
    },
    "tags": []
   },
   "outputs": [],
   "source": [
    "cv = CountVectorizer(lowercase=True, ngram_range = (1,1))"
   ]
  },
  {
   "cell_type": "code",
   "execution_count": 19,
   "id": "d2e7a73d",
   "metadata": {
    "execution": {
     "iopub.execute_input": "2023-06-22T15:13:13.382858Z",
     "iopub.status.busy": "2023-06-22T15:13:13.382320Z",
     "iopub.status.idle": "2023-06-22T15:13:14.506061Z",
     "shell.execute_reply": "2023-06-22T15:13:14.505034Z"
    },
    "id": "nwMnUrrLarHR",
    "papermill": {
     "duration": 1.140334,
     "end_time": "2023-06-22T15:13:14.508582",
     "exception": false,
     "start_time": "2023-06-22T15:13:13.368248",
     "status": "completed"
    },
    "tags": []
   },
   "outputs": [],
   "source": [
    "X = cv.fit_transform(X)"
   ]
  },
  {
   "cell_type": "code",
   "execution_count": 20,
   "id": "da115a35",
   "metadata": {
    "execution": {
     "iopub.execute_input": "2023-06-22T15:13:14.537767Z",
     "iopub.status.busy": "2023-06-22T15:13:14.536550Z",
     "iopub.status.idle": "2023-06-22T15:13:14.543424Z",
     "shell.execute_reply": "2023-06-22T15:13:14.542521Z"
    },
    "id": "Y4fOl6BPaugf",
    "outputId": "29f4a6f9-74b0-46c7-ccfc-d305d0f22ab7",
    "papermill": {
     "duration": 0.023131,
     "end_time": "2023-06-22T15:13:14.545330",
     "exception": false,
     "start_time": "2023-06-22T15:13:14.522199",
     "status": "completed"
    },
    "tags": []
   },
   "outputs": [
    {
     "data": {
      "text/plain": [
       "(4101, 48527)"
      ]
     },
     "execution_count": 20,
     "metadata": {},
     "output_type": "execute_result"
    }
   ],
   "source": [
    "X.shape"
   ]
  },
  {
   "cell_type": "code",
   "execution_count": 21,
   "id": "304b2590",
   "metadata": {
    "execution": {
     "iopub.execute_input": "2023-06-22T15:13:14.573445Z",
     "iopub.status.busy": "2023-06-22T15:13:14.573074Z",
     "iopub.status.idle": "2023-06-22T15:13:14.577308Z",
     "shell.execute_reply": "2023-06-22T15:13:14.576472Z"
    },
    "id": "O7Znx41caxdM",
    "papermill": {
     "duration": 0.020637,
     "end_time": "2023-06-22T15:13:14.579102",
     "exception": false,
     "start_time": "2023-06-22T15:13:14.558465",
     "status": "completed"
    },
    "tags": []
   },
   "outputs": [],
   "source": [
    "y = df['Label']"
   ]
  },
  {
   "cell_type": "code",
   "execution_count": 22,
   "id": "853d55f4",
   "metadata": {
    "execution": {
     "iopub.execute_input": "2023-06-22T15:13:14.607478Z",
     "iopub.status.busy": "2023-06-22T15:13:14.606476Z",
     "iopub.status.idle": "2023-06-22T15:13:14.612620Z",
     "shell.execute_reply": "2023-06-22T15:13:14.611750Z"
    },
    "id": "8JC8vhRXa1Q2",
    "outputId": "33c88ec9-4989-40e0-f8d2-712476ca2af4",
    "papermill": {
     "duration": 0.022281,
     "end_time": "2023-06-22T15:13:14.614460",
     "exception": false,
     "start_time": "2023-06-22T15:13:14.592179",
     "status": "completed"
    },
    "tags": []
   },
   "outputs": [
    {
     "data": {
      "text/plain": [
       "(4101,)"
      ]
     },
     "execution_count": 22,
     "metadata": {},
     "output_type": "execute_result"
    }
   ],
   "source": [
    "y.shape"
   ]
  },
  {
   "cell_type": "markdown",
   "id": "ccd26971",
   "metadata": {
    "papermill": {
     "duration": 0.012841,
     "end_time": "2023-06-22T15:13:14.640631",
     "exception": false,
     "start_time": "2023-06-22T15:13:14.627790",
     "status": "completed"
    },
    "tags": []
   },
   "source": [
    "### Train Test Split"
   ]
  },
  {
   "cell_type": "code",
   "execution_count": 23,
   "id": "50d57b5f",
   "metadata": {
    "execution": {
     "iopub.execute_input": "2023-06-22T15:13:14.668727Z",
     "iopub.status.busy": "2023-06-22T15:13:14.668093Z",
     "iopub.status.idle": "2023-06-22T15:13:14.761938Z",
     "shell.execute_reply": "2023-06-22T15:13:14.760213Z"
    },
    "id": "m5UJ1Fmga3H3",
    "papermill": {
     "duration": 0.111085,
     "end_time": "2023-06-22T15:13:14.764815",
     "exception": false,
     "start_time": "2023-06-22T15:13:14.653730",
     "status": "completed"
    },
    "tags": []
   },
   "outputs": [],
   "source": [
    "from sklearn.model_selection import train_test_split"
   ]
  },
  {
   "cell_type": "code",
   "execution_count": 24,
   "id": "0a1c9cc5",
   "metadata": {
    "execution": {
     "iopub.execute_input": "2023-06-22T15:13:14.792856Z",
     "iopub.status.busy": "2023-06-22T15:13:14.792493Z",
     "iopub.status.idle": "2023-06-22T15:13:14.804403Z",
     "shell.execute_reply": "2023-06-22T15:13:14.803553Z"
    },
    "id": "tTokDWwea9Tn",
    "papermill": {
     "duration": 0.028397,
     "end_time": "2023-06-22T15:13:14.806580",
     "exception": false,
     "start_time": "2023-06-22T15:13:14.778183",
     "status": "completed"
    },
    "tags": []
   },
   "outputs": [],
   "source": [
    "x_train, x_test, y_train, y_test = train_test_split(X, y, test_size=0.3, stratify=y, random_state=2529)"
   ]
  },
  {
   "cell_type": "markdown",
   "id": "6d40ea65",
   "metadata": {
    "papermill": {
     "duration": 0.012734,
     "end_time": "2023-06-22T15:13:14.832448",
     "exception": false,
     "start_time": "2023-06-22T15:13:14.819714",
     "status": "completed"
    },
    "tags": []
   },
   "source": [
    "# Random Forest Classifier"
   ]
  },
  {
   "cell_type": "code",
   "execution_count": 25,
   "id": "3af883f1",
   "metadata": {
    "execution": {
     "iopub.execute_input": "2023-06-22T15:13:14.860161Z",
     "iopub.status.busy": "2023-06-22T15:13:14.859770Z",
     "iopub.status.idle": "2023-06-22T15:13:15.199529Z",
     "shell.execute_reply": "2023-06-22T15:13:15.198764Z"
    },
    "id": "EmQy8H8ibJ3H",
    "papermill": {
     "duration": 0.356308,
     "end_time": "2023-06-22T15:13:15.201730",
     "exception": false,
     "start_time": "2023-06-22T15:13:14.845422",
     "status": "completed"
    },
    "tags": []
   },
   "outputs": [],
   "source": [
    "from sklearn.ensemble import RandomForestClassifier"
   ]
  },
  {
   "cell_type": "code",
   "execution_count": 26,
   "id": "4feca2ba",
   "metadata": {
    "execution": {
     "iopub.execute_input": "2023-06-22T15:13:15.230561Z",
     "iopub.status.busy": "2023-06-22T15:13:15.230019Z",
     "iopub.status.idle": "2023-06-22T15:13:15.233589Z",
     "shell.execute_reply": "2023-06-22T15:13:15.232954Z"
    },
    "id": "74hKIL4CbP4w",
    "papermill": {
     "duration": 0.019886,
     "end_time": "2023-06-22T15:13:15.235337",
     "exception": false,
     "start_time": "2023-06-22T15:13:15.215451",
     "status": "completed"
    },
    "tags": []
   },
   "outputs": [],
   "source": [
    "rf = RandomForestClassifier(n_estimators=200)"
   ]
  },
  {
   "cell_type": "code",
   "execution_count": 27,
   "id": "cfd39ae2",
   "metadata": {
    "execution": {
     "iopub.execute_input": "2023-06-22T15:13:15.262931Z",
     "iopub.status.busy": "2023-06-22T15:13:15.262409Z",
     "iopub.status.idle": "2023-06-22T15:13:28.191413Z",
     "shell.execute_reply": "2023-06-22T15:13:28.190715Z"
    },
    "id": "aoDAaTYRbSUd",
    "outputId": "5202a637-43e6-49f5-f48a-a9f8bf87fe2b",
    "papermill": {
     "duration": 12.945059,
     "end_time": "2023-06-22T15:13:28.193383",
     "exception": false,
     "start_time": "2023-06-22T15:13:15.248324",
     "status": "completed"
    },
    "tags": []
   },
   "outputs": [
    {
     "data": {
      "text/html": [
       "<style>#sk-container-id-1 {color: black;background-color: white;}#sk-container-id-1 pre{padding: 0;}#sk-container-id-1 div.sk-toggleable {background-color: white;}#sk-container-id-1 label.sk-toggleable__label {cursor: pointer;display: block;width: 100%;margin-bottom: 0;padding: 0.3em;box-sizing: border-box;text-align: center;}#sk-container-id-1 label.sk-toggleable__label-arrow:before {content: \"▸\";float: left;margin-right: 0.25em;color: #696969;}#sk-container-id-1 label.sk-toggleable__label-arrow:hover:before {color: black;}#sk-container-id-1 div.sk-estimator:hover label.sk-toggleable__label-arrow:before {color: black;}#sk-container-id-1 div.sk-toggleable__content {max-height: 0;max-width: 0;overflow: hidden;text-align: left;background-color: #f0f8ff;}#sk-container-id-1 div.sk-toggleable__content pre {margin: 0.2em;color: black;border-radius: 0.25em;background-color: #f0f8ff;}#sk-container-id-1 input.sk-toggleable__control:checked~div.sk-toggleable__content {max-height: 200px;max-width: 100%;overflow: auto;}#sk-container-id-1 input.sk-toggleable__control:checked~label.sk-toggleable__label-arrow:before {content: \"▾\";}#sk-container-id-1 div.sk-estimator input.sk-toggleable__control:checked~label.sk-toggleable__label {background-color: #d4ebff;}#sk-container-id-1 div.sk-label input.sk-toggleable__control:checked~label.sk-toggleable__label {background-color: #d4ebff;}#sk-container-id-1 input.sk-hidden--visually {border: 0;clip: rect(1px 1px 1px 1px);clip: rect(1px, 1px, 1px, 1px);height: 1px;margin: -1px;overflow: hidden;padding: 0;position: absolute;width: 1px;}#sk-container-id-1 div.sk-estimator {font-family: monospace;background-color: #f0f8ff;border: 1px dotted black;border-radius: 0.25em;box-sizing: border-box;margin-bottom: 0.5em;}#sk-container-id-1 div.sk-estimator:hover {background-color: #d4ebff;}#sk-container-id-1 div.sk-parallel-item::after {content: \"\";width: 100%;border-bottom: 1px solid gray;flex-grow: 1;}#sk-container-id-1 div.sk-label:hover label.sk-toggleable__label {background-color: #d4ebff;}#sk-container-id-1 div.sk-serial::before {content: \"\";position: absolute;border-left: 1px solid gray;box-sizing: border-box;top: 0;bottom: 0;left: 50%;z-index: 0;}#sk-container-id-1 div.sk-serial {display: flex;flex-direction: column;align-items: center;background-color: white;padding-right: 0.2em;padding-left: 0.2em;position: relative;}#sk-container-id-1 div.sk-item {position: relative;z-index: 1;}#sk-container-id-1 div.sk-parallel {display: flex;align-items: stretch;justify-content: center;background-color: white;position: relative;}#sk-container-id-1 div.sk-item::before, #sk-container-id-1 div.sk-parallel-item::before {content: \"\";position: absolute;border-left: 1px solid gray;box-sizing: border-box;top: 0;bottom: 0;left: 50%;z-index: -1;}#sk-container-id-1 div.sk-parallel-item {display: flex;flex-direction: column;z-index: 1;position: relative;background-color: white;}#sk-container-id-1 div.sk-parallel-item:first-child::after {align-self: flex-end;width: 50%;}#sk-container-id-1 div.sk-parallel-item:last-child::after {align-self: flex-start;width: 50%;}#sk-container-id-1 div.sk-parallel-item:only-child::after {width: 0;}#sk-container-id-1 div.sk-dashed-wrapped {border: 1px dashed gray;margin: 0 0.4em 0.5em 0.4em;box-sizing: border-box;padding-bottom: 0.4em;background-color: white;}#sk-container-id-1 div.sk-label label {font-family: monospace;font-weight: bold;display: inline-block;line-height: 1.2em;}#sk-container-id-1 div.sk-label-container {text-align: center;}#sk-container-id-1 div.sk-container {/* jupyter's `normalize.less` sets `[hidden] { display: none; }` but bootstrap.min.css set `[hidden] { display: none !important; }` so we also need the `!important` here to be able to override the default hidden behavior on the sphinx rendered scikit-learn.org. See: https://github.com/scikit-learn/scikit-learn/issues/21755 */display: inline-block !important;position: relative;}#sk-container-id-1 div.sk-text-repr-fallback {display: none;}</style><div id=\"sk-container-id-1\" class=\"sk-top-container\"><div class=\"sk-text-repr-fallback\"><pre>RandomForestClassifier(n_estimators=200)</pre><b>In a Jupyter environment, please rerun this cell to show the HTML representation or trust the notebook. <br />On GitHub, the HTML representation is unable to render, please try loading this page with nbviewer.org.</b></div><div class=\"sk-container\" hidden><div class=\"sk-item\"><div class=\"sk-estimator sk-toggleable\"><input class=\"sk-toggleable__control sk-hidden--visually\" id=\"sk-estimator-id-1\" type=\"checkbox\" checked><label for=\"sk-estimator-id-1\" class=\"sk-toggleable__label sk-toggleable__label-arrow\">RandomForestClassifier</label><div class=\"sk-toggleable__content\"><pre>RandomForestClassifier(n_estimators=200)</pre></div></div></div></div></div>"
      ],
      "text/plain": [
       "RandomForestClassifier(n_estimators=200)"
      ]
     },
     "execution_count": 27,
     "metadata": {},
     "output_type": "execute_result"
    }
   ],
   "source": [
    "rf.fit(x_train, y_train)"
   ]
  },
  {
   "cell_type": "code",
   "execution_count": 28,
   "id": "32a7c564",
   "metadata": {
    "execution": {
     "iopub.execute_input": "2023-06-22T15:13:28.222388Z",
     "iopub.status.busy": "2023-06-22T15:13:28.222014Z",
     "iopub.status.idle": "2023-06-22T15:13:28.550240Z",
     "shell.execute_reply": "2023-06-22T15:13:28.549215Z"
    },
    "id": "62BRgSsubYa3",
    "papermill": {
     "duration": 0.345932,
     "end_time": "2023-06-22T15:13:28.552757",
     "exception": false,
     "start_time": "2023-06-22T15:13:28.206825",
     "status": "completed"
    },
    "tags": []
   },
   "outputs": [],
   "source": [
    "y_pred = rf.predict(x_test)"
   ]
  },
  {
   "cell_type": "code",
   "execution_count": 29,
   "id": "3bcc2d4f",
   "metadata": {
    "execution": {
     "iopub.execute_input": "2023-06-22T15:13:28.581537Z",
     "iopub.status.busy": "2023-06-22T15:13:28.581173Z",
     "iopub.status.idle": "2023-06-22T15:13:28.585736Z",
     "shell.execute_reply": "2023-06-22T15:13:28.584855Z"
    },
    "id": "mAeQYrmUbdbt",
    "papermill": {
     "duration": 0.021387,
     "end_time": "2023-06-22T15:13:28.587913",
     "exception": false,
     "start_time": "2023-06-22T15:13:28.566526",
     "status": "completed"
    },
    "tags": []
   },
   "outputs": [],
   "source": [
    "from sklearn.metrics import classification_report, confusion_matrix, accuracy_score"
   ]
  },
  {
   "cell_type": "markdown",
   "id": "c403edab",
   "metadata": {
    "papermill": {
     "duration": 0.013027,
     "end_time": "2023-06-22T15:13:28.614726",
     "exception": false,
     "start_time": "2023-06-22T15:13:28.601699",
     "status": "completed"
    },
    "tags": []
   },
   "source": [
    "## Random Forest Model Accuracy"
   ]
  },
  {
   "cell_type": "code",
   "execution_count": 30,
   "id": "4a63f9fb",
   "metadata": {
    "execution": {
     "iopub.execute_input": "2023-06-22T15:13:28.643181Z",
     "iopub.status.busy": "2023-06-22T15:13:28.642780Z",
     "iopub.status.idle": "2023-06-22T15:13:28.650590Z",
     "shell.execute_reply": "2023-06-22T15:13:28.649648Z"
    },
    "id": "86oyrxKNblj0",
    "outputId": "ca9854d2-abf4-4cb8-84c1-94393594c4b4",
    "papermill": {
     "duration": 0.024613,
     "end_time": "2023-06-22T15:13:28.652711",
     "exception": false,
     "start_time": "2023-06-22T15:13:28.628098",
     "status": "completed"
    },
    "tags": []
   },
   "outputs": [
    {
     "data": {
      "text/plain": [
       "array([[148, 433],\n",
       "       [157, 493]])"
      ]
     },
     "execution_count": 30,
     "metadata": {},
     "output_type": "execute_result"
    }
   ],
   "source": [
    "confusion_matrix(y_test,y_pred)"
   ]
  },
  {
   "cell_type": "code",
   "execution_count": 31,
   "id": "ff0cac53",
   "metadata": {
    "execution": {
     "iopub.execute_input": "2023-06-22T15:13:28.681955Z",
     "iopub.status.busy": "2023-06-22T15:13:28.681364Z",
     "iopub.status.idle": "2023-06-22T15:13:28.696089Z",
     "shell.execute_reply": "2023-06-22T15:13:28.694843Z"
    },
    "id": "aImAbg7ZbpG4",
    "outputId": "bb520023-cd45-4e29-d409-900a84175ff3",
    "papermill": {
     "duration": 0.031948,
     "end_time": "2023-06-22T15:13:28.698234",
     "exception": false,
     "start_time": "2023-06-22T15:13:28.666286",
     "status": "completed"
    },
    "tags": []
   },
   "outputs": [
    {
     "name": "stdout",
     "output_type": "stream",
     "text": [
      "              precision    recall  f1-score   support\n",
      "\n",
      "           0       0.49      0.25      0.33       581\n",
      "           1       0.53      0.76      0.63       650\n",
      "\n",
      "    accuracy                           0.52      1231\n",
      "   macro avg       0.51      0.51      0.48      1231\n",
      "weighted avg       0.51      0.52      0.49      1231\n",
      "\n"
     ]
    }
   ],
   "source": [
    "print(classification_report(y_test, y_pred))"
   ]
  },
  {
   "cell_type": "code",
   "execution_count": 32,
   "id": "f8663fe6",
   "metadata": {
    "execution": {
     "iopub.execute_input": "2023-06-22T15:13:28.727723Z",
     "iopub.status.busy": "2023-06-22T15:13:28.727118Z",
     "iopub.status.idle": "2023-06-22T15:13:28.734088Z",
     "shell.execute_reply": "2023-06-22T15:13:28.733289Z"
    },
    "id": "ELLQP-iWbzE_",
    "outputId": "ff785b36-3c1d-4104-ff59-3cdd52a1629a",
    "papermill": {
     "duration": 0.02379,
     "end_time": "2023-06-22T15:13:28.735940",
     "exception": false,
     "start_time": "2023-06-22T15:13:28.712150",
     "status": "completed"
    },
    "tags": []
   },
   "outputs": [
    {
     "data": {
      "text/plain": [
       "0.5207148659626321"
      ]
     },
     "execution_count": 32,
     "metadata": {},
     "output_type": "execute_result"
    }
   ],
   "source": [
    "accuracy_score(y_test,y_pred)"
   ]
  },
  {
   "cell_type": "markdown",
   "id": "3ba5543a",
   "metadata": {
    "papermill": {
     "duration": 0.013168,
     "end_time": "2023-06-22T15:13:28.762579",
     "exception": false,
     "start_time": "2023-06-22T15:13:28.749411",
     "status": "completed"
    },
    "tags": []
   },
   "source": [
    "# SVM Classifier"
   ]
  },
  {
   "cell_type": "code",
   "execution_count": 33,
   "id": "5295580d",
   "metadata": {
    "execution": {
     "iopub.execute_input": "2023-06-22T15:13:28.792427Z",
     "iopub.status.busy": "2023-06-22T15:13:28.791791Z",
     "iopub.status.idle": "2023-06-22T15:13:28.796144Z",
     "shell.execute_reply": "2023-06-22T15:13:28.795471Z"
    },
    "id": "Cxip5xrrb58q",
    "papermill": {
     "duration": 0.021923,
     "end_time": "2023-06-22T15:13:28.798004",
     "exception": false,
     "start_time": "2023-06-22T15:13:28.776081",
     "status": "completed"
    },
    "tags": []
   },
   "outputs": [],
   "source": [
    "from sklearn.svm import SVC\n",
    "\n",
    "svm = SVC()"
   ]
  },
  {
   "cell_type": "code",
   "execution_count": 34,
   "id": "566ce22a",
   "metadata": {
    "execution": {
     "iopub.execute_input": "2023-06-22T15:13:28.826561Z",
     "iopub.status.busy": "2023-06-22T15:13:28.826233Z",
     "iopub.status.idle": "2023-06-22T15:13:47.340713Z",
     "shell.execute_reply": "2023-06-22T15:13:47.339770Z"
    },
    "id": "8T2iRpaVcJFE",
    "outputId": "ead57be6-5974-48b0-dc44-07d93dea4f82",
    "papermill": {
     "duration": 18.531345,
     "end_time": "2023-06-22T15:13:47.342847",
     "exception": false,
     "start_time": "2023-06-22T15:13:28.811502",
     "status": "completed"
    },
    "tags": []
   },
   "outputs": [
    {
     "data": {
      "text/html": [
       "<style>#sk-container-id-2 {color: black;background-color: white;}#sk-container-id-2 pre{padding: 0;}#sk-container-id-2 div.sk-toggleable {background-color: white;}#sk-container-id-2 label.sk-toggleable__label {cursor: pointer;display: block;width: 100%;margin-bottom: 0;padding: 0.3em;box-sizing: border-box;text-align: center;}#sk-container-id-2 label.sk-toggleable__label-arrow:before {content: \"▸\";float: left;margin-right: 0.25em;color: #696969;}#sk-container-id-2 label.sk-toggleable__label-arrow:hover:before {color: black;}#sk-container-id-2 div.sk-estimator:hover label.sk-toggleable__label-arrow:before {color: black;}#sk-container-id-2 div.sk-toggleable__content {max-height: 0;max-width: 0;overflow: hidden;text-align: left;background-color: #f0f8ff;}#sk-container-id-2 div.sk-toggleable__content pre {margin: 0.2em;color: black;border-radius: 0.25em;background-color: #f0f8ff;}#sk-container-id-2 input.sk-toggleable__control:checked~div.sk-toggleable__content {max-height: 200px;max-width: 100%;overflow: auto;}#sk-container-id-2 input.sk-toggleable__control:checked~label.sk-toggleable__label-arrow:before {content: \"▾\";}#sk-container-id-2 div.sk-estimator input.sk-toggleable__control:checked~label.sk-toggleable__label {background-color: #d4ebff;}#sk-container-id-2 div.sk-label input.sk-toggleable__control:checked~label.sk-toggleable__label {background-color: #d4ebff;}#sk-container-id-2 input.sk-hidden--visually {border: 0;clip: rect(1px 1px 1px 1px);clip: rect(1px, 1px, 1px, 1px);height: 1px;margin: -1px;overflow: hidden;padding: 0;position: absolute;width: 1px;}#sk-container-id-2 div.sk-estimator {font-family: monospace;background-color: #f0f8ff;border: 1px dotted black;border-radius: 0.25em;box-sizing: border-box;margin-bottom: 0.5em;}#sk-container-id-2 div.sk-estimator:hover {background-color: #d4ebff;}#sk-container-id-2 div.sk-parallel-item::after {content: \"\";width: 100%;border-bottom: 1px solid gray;flex-grow: 1;}#sk-container-id-2 div.sk-label:hover label.sk-toggleable__label {background-color: #d4ebff;}#sk-container-id-2 div.sk-serial::before {content: \"\";position: absolute;border-left: 1px solid gray;box-sizing: border-box;top: 0;bottom: 0;left: 50%;z-index: 0;}#sk-container-id-2 div.sk-serial {display: flex;flex-direction: column;align-items: center;background-color: white;padding-right: 0.2em;padding-left: 0.2em;position: relative;}#sk-container-id-2 div.sk-item {position: relative;z-index: 1;}#sk-container-id-2 div.sk-parallel {display: flex;align-items: stretch;justify-content: center;background-color: white;position: relative;}#sk-container-id-2 div.sk-item::before, #sk-container-id-2 div.sk-parallel-item::before {content: \"\";position: absolute;border-left: 1px solid gray;box-sizing: border-box;top: 0;bottom: 0;left: 50%;z-index: -1;}#sk-container-id-2 div.sk-parallel-item {display: flex;flex-direction: column;z-index: 1;position: relative;background-color: white;}#sk-container-id-2 div.sk-parallel-item:first-child::after {align-self: flex-end;width: 50%;}#sk-container-id-2 div.sk-parallel-item:last-child::after {align-self: flex-start;width: 50%;}#sk-container-id-2 div.sk-parallel-item:only-child::after {width: 0;}#sk-container-id-2 div.sk-dashed-wrapped {border: 1px dashed gray;margin: 0 0.4em 0.5em 0.4em;box-sizing: border-box;padding-bottom: 0.4em;background-color: white;}#sk-container-id-2 div.sk-label label {font-family: monospace;font-weight: bold;display: inline-block;line-height: 1.2em;}#sk-container-id-2 div.sk-label-container {text-align: center;}#sk-container-id-2 div.sk-container {/* jupyter's `normalize.less` sets `[hidden] { display: none; }` but bootstrap.min.css set `[hidden] { display: none !important; }` so we also need the `!important` here to be able to override the default hidden behavior on the sphinx rendered scikit-learn.org. See: https://github.com/scikit-learn/scikit-learn/issues/21755 */display: inline-block !important;position: relative;}#sk-container-id-2 div.sk-text-repr-fallback {display: none;}</style><div id=\"sk-container-id-2\" class=\"sk-top-container\"><div class=\"sk-text-repr-fallback\"><pre>SVC()</pre><b>In a Jupyter environment, please rerun this cell to show the HTML representation or trust the notebook. <br />On GitHub, the HTML representation is unable to render, please try loading this page with nbviewer.org.</b></div><div class=\"sk-container\" hidden><div class=\"sk-item\"><div class=\"sk-estimator sk-toggleable\"><input class=\"sk-toggleable__control sk-hidden--visually\" id=\"sk-estimator-id-2\" type=\"checkbox\" checked><label for=\"sk-estimator-id-2\" class=\"sk-toggleable__label sk-toggleable__label-arrow\">SVC</label><div class=\"sk-toggleable__content\"><pre>SVC()</pre></div></div></div></div></div>"
      ],
      "text/plain": [
       "SVC()"
      ]
     },
     "execution_count": 34,
     "metadata": {},
     "output_type": "execute_result"
    }
   ],
   "source": [
    "svm.fit(x_train, y_train)"
   ]
  },
  {
   "cell_type": "code",
   "execution_count": 35,
   "id": "12681691",
   "metadata": {
    "execution": {
     "iopub.execute_input": "2023-06-22T15:13:47.372527Z",
     "iopub.status.busy": "2023-06-22T15:13:47.372178Z",
     "iopub.status.idle": "2023-06-22T15:13:55.968596Z",
     "shell.execute_reply": "2023-06-22T15:13:55.967516Z"
    },
    "id": "lzG203bocLss",
    "papermill": {
     "duration": 8.614094,
     "end_time": "2023-06-22T15:13:55.970995",
     "exception": false,
     "start_time": "2023-06-22T15:13:47.356901",
     "status": "completed"
    },
    "tags": []
   },
   "outputs": [],
   "source": [
    "y_pred = svm.predict(x_test)"
   ]
  },
  {
   "cell_type": "markdown",
   "id": "c2b8f9d0",
   "metadata": {
    "papermill": {
     "duration": 0.014209,
     "end_time": "2023-06-22T15:13:56.001305",
     "exception": false,
     "start_time": "2023-06-22T15:13:55.987096",
     "status": "completed"
    },
    "tags": []
   },
   "source": [
    "## SVM Model Accuracy"
   ]
  },
  {
   "cell_type": "code",
   "execution_count": 36,
   "id": "4edf431c",
   "metadata": {
    "execution": {
     "iopub.execute_input": "2023-06-22T15:13:56.031246Z",
     "iopub.status.busy": "2023-06-22T15:13:56.030858Z",
     "iopub.status.idle": "2023-06-22T15:13:56.038246Z",
     "shell.execute_reply": "2023-06-22T15:13:56.037420Z"
    },
    "papermill": {
     "duration": 0.024576,
     "end_time": "2023-06-22T15:13:56.040212",
     "exception": false,
     "start_time": "2023-06-22T15:13:56.015636",
     "status": "completed"
    },
    "tags": []
   },
   "outputs": [
    {
     "data": {
      "text/plain": [
       "array([[ 83, 498],\n",
       "       [107, 543]])"
      ]
     },
     "execution_count": 36,
     "metadata": {},
     "output_type": "execute_result"
    }
   ],
   "source": [
    "confusion_matrix(y_test, y_pred)"
   ]
  },
  {
   "cell_type": "code",
   "execution_count": 37,
   "id": "f908e39f",
   "metadata": {
    "execution": {
     "iopub.execute_input": "2023-06-22T15:13:56.070540Z",
     "iopub.status.busy": "2023-06-22T15:13:56.069520Z",
     "iopub.status.idle": "2023-06-22T15:13:56.083073Z",
     "shell.execute_reply": "2023-06-22T15:13:56.082013Z"
    },
    "papermill": {
     "duration": 0.030732,
     "end_time": "2023-06-22T15:13:56.085165",
     "exception": false,
     "start_time": "2023-06-22T15:13:56.054433",
     "status": "completed"
    },
    "tags": []
   },
   "outputs": [
    {
     "name": "stdout",
     "output_type": "stream",
     "text": [
      "              precision    recall  f1-score   support\n",
      "\n",
      "           0       0.44      0.14      0.22       581\n",
      "           1       0.52      0.84      0.64       650\n",
      "\n",
      "    accuracy                           0.51      1231\n",
      "   macro avg       0.48      0.49      0.43      1231\n",
      "weighted avg       0.48      0.51      0.44      1231\n",
      "\n"
     ]
    }
   ],
   "source": [
    "print(classification_report(y_test, y_pred))"
   ]
  },
  {
   "cell_type": "code",
   "execution_count": 38,
   "id": "e499b9df",
   "metadata": {
    "execution": {
     "iopub.execute_input": "2023-06-22T15:13:56.115922Z",
     "iopub.status.busy": "2023-06-22T15:13:56.115542Z",
     "iopub.status.idle": "2023-06-22T15:13:56.122869Z",
     "shell.execute_reply": "2023-06-22T15:13:56.122162Z"
    },
    "id": "VdTqLwVzcPEs",
    "outputId": "1c3eb31b-e1dd-41af-8d7d-cfa49d83b18b",
    "papermill": {
     "duration": 0.024745,
     "end_time": "2023-06-22T15:13:56.124650",
     "exception": false,
     "start_time": "2023-06-22T15:13:56.099905",
     "status": "completed"
    },
    "tags": []
   },
   "outputs": [
    {
     "data": {
      "text/plain": [
       "0.5085296506904955"
      ]
     },
     "execution_count": 38,
     "metadata": {},
     "output_type": "execute_result"
    }
   ],
   "source": [
    "accuracy_score(y_test, y_pred)"
   ]
  },
  {
   "cell_type": "markdown",
   "id": "cc4d39c4",
   "metadata": {
    "papermill": {
     "duration": 0.013795,
     "end_time": "2023-06-22T15:13:56.152660",
     "exception": false,
     "start_time": "2023-06-22T15:13:56.138865",
     "status": "completed"
    },
    "tags": []
   },
   "source": [
    "# Logistic Regression"
   ]
  },
  {
   "cell_type": "code",
   "execution_count": 39,
   "id": "3bd5e452",
   "metadata": {
    "execution": {
     "iopub.execute_input": "2023-06-22T15:13:56.183571Z",
     "iopub.status.busy": "2023-06-22T15:13:56.182908Z",
     "iopub.status.idle": "2023-06-22T15:13:56.186764Z",
     "shell.execute_reply": "2023-06-22T15:13:56.186124Z"
    },
    "id": "p1v720bvcS1Q",
    "papermill": {
     "duration": 0.021179,
     "end_time": "2023-06-22T15:13:56.188544",
     "exception": false,
     "start_time": "2023-06-22T15:13:56.167365",
     "status": "completed"
    },
    "tags": []
   },
   "outputs": [],
   "source": [
    "from sklearn.linear_model import LogisticRegression\n",
    "\n",
    "logreg = LogisticRegression(max_iter=1000)"
   ]
  },
  {
   "cell_type": "code",
   "execution_count": 40,
   "id": "47d0dbad",
   "metadata": {
    "execution": {
     "iopub.execute_input": "2023-06-22T15:13:56.218638Z",
     "iopub.status.busy": "2023-06-22T15:13:56.218033Z",
     "iopub.status.idle": "2023-06-22T15:14:02.598925Z",
     "shell.execute_reply": "2023-06-22T15:14:02.597819Z"
    },
    "id": "jbPXaVFxcddF",
    "outputId": "f4622ba7-5774-43c0-b279-b49f75da1fb1",
    "papermill": {
     "duration": 6.399652,
     "end_time": "2023-06-22T15:14:02.602327",
     "exception": false,
     "start_time": "2023-06-22T15:13:56.202675",
     "status": "completed"
    },
    "tags": []
   },
   "outputs": [
    {
     "data": {
      "text/html": [
       "<style>#sk-container-id-3 {color: black;background-color: white;}#sk-container-id-3 pre{padding: 0;}#sk-container-id-3 div.sk-toggleable {background-color: white;}#sk-container-id-3 label.sk-toggleable__label {cursor: pointer;display: block;width: 100%;margin-bottom: 0;padding: 0.3em;box-sizing: border-box;text-align: center;}#sk-container-id-3 label.sk-toggleable__label-arrow:before {content: \"▸\";float: left;margin-right: 0.25em;color: #696969;}#sk-container-id-3 label.sk-toggleable__label-arrow:hover:before {color: black;}#sk-container-id-3 div.sk-estimator:hover label.sk-toggleable__label-arrow:before {color: black;}#sk-container-id-3 div.sk-toggleable__content {max-height: 0;max-width: 0;overflow: hidden;text-align: left;background-color: #f0f8ff;}#sk-container-id-3 div.sk-toggleable__content pre {margin: 0.2em;color: black;border-radius: 0.25em;background-color: #f0f8ff;}#sk-container-id-3 input.sk-toggleable__control:checked~div.sk-toggleable__content {max-height: 200px;max-width: 100%;overflow: auto;}#sk-container-id-3 input.sk-toggleable__control:checked~label.sk-toggleable__label-arrow:before {content: \"▾\";}#sk-container-id-3 div.sk-estimator input.sk-toggleable__control:checked~label.sk-toggleable__label {background-color: #d4ebff;}#sk-container-id-3 div.sk-label input.sk-toggleable__control:checked~label.sk-toggleable__label {background-color: #d4ebff;}#sk-container-id-3 input.sk-hidden--visually {border: 0;clip: rect(1px 1px 1px 1px);clip: rect(1px, 1px, 1px, 1px);height: 1px;margin: -1px;overflow: hidden;padding: 0;position: absolute;width: 1px;}#sk-container-id-3 div.sk-estimator {font-family: monospace;background-color: #f0f8ff;border: 1px dotted black;border-radius: 0.25em;box-sizing: border-box;margin-bottom: 0.5em;}#sk-container-id-3 div.sk-estimator:hover {background-color: #d4ebff;}#sk-container-id-3 div.sk-parallel-item::after {content: \"\";width: 100%;border-bottom: 1px solid gray;flex-grow: 1;}#sk-container-id-3 div.sk-label:hover label.sk-toggleable__label {background-color: #d4ebff;}#sk-container-id-3 div.sk-serial::before {content: \"\";position: absolute;border-left: 1px solid gray;box-sizing: border-box;top: 0;bottom: 0;left: 50%;z-index: 0;}#sk-container-id-3 div.sk-serial {display: flex;flex-direction: column;align-items: center;background-color: white;padding-right: 0.2em;padding-left: 0.2em;position: relative;}#sk-container-id-3 div.sk-item {position: relative;z-index: 1;}#sk-container-id-3 div.sk-parallel {display: flex;align-items: stretch;justify-content: center;background-color: white;position: relative;}#sk-container-id-3 div.sk-item::before, #sk-container-id-3 div.sk-parallel-item::before {content: \"\";position: absolute;border-left: 1px solid gray;box-sizing: border-box;top: 0;bottom: 0;left: 50%;z-index: -1;}#sk-container-id-3 div.sk-parallel-item {display: flex;flex-direction: column;z-index: 1;position: relative;background-color: white;}#sk-container-id-3 div.sk-parallel-item:first-child::after {align-self: flex-end;width: 50%;}#sk-container-id-3 div.sk-parallel-item:last-child::after {align-self: flex-start;width: 50%;}#sk-container-id-3 div.sk-parallel-item:only-child::after {width: 0;}#sk-container-id-3 div.sk-dashed-wrapped {border: 1px dashed gray;margin: 0 0.4em 0.5em 0.4em;box-sizing: border-box;padding-bottom: 0.4em;background-color: white;}#sk-container-id-3 div.sk-label label {font-family: monospace;font-weight: bold;display: inline-block;line-height: 1.2em;}#sk-container-id-3 div.sk-label-container {text-align: center;}#sk-container-id-3 div.sk-container {/* jupyter's `normalize.less` sets `[hidden] { display: none; }` but bootstrap.min.css set `[hidden] { display: none !important; }` so we also need the `!important` here to be able to override the default hidden behavior on the sphinx rendered scikit-learn.org. See: https://github.com/scikit-learn/scikit-learn/issues/21755 */display: inline-block !important;position: relative;}#sk-container-id-3 div.sk-text-repr-fallback {display: none;}</style><div id=\"sk-container-id-3\" class=\"sk-top-container\"><div class=\"sk-text-repr-fallback\"><pre>LogisticRegression(max_iter=1000)</pre><b>In a Jupyter environment, please rerun this cell to show the HTML representation or trust the notebook. <br />On GitHub, the HTML representation is unable to render, please try loading this page with nbviewer.org.</b></div><div class=\"sk-container\" hidden><div class=\"sk-item\"><div class=\"sk-estimator sk-toggleable\"><input class=\"sk-toggleable__control sk-hidden--visually\" id=\"sk-estimator-id-3\" type=\"checkbox\" checked><label for=\"sk-estimator-id-3\" class=\"sk-toggleable__label sk-toggleable__label-arrow\">LogisticRegression</label><div class=\"sk-toggleable__content\"><pre>LogisticRegression(max_iter=1000)</pre></div></div></div></div></div>"
      ],
      "text/plain": [
       "LogisticRegression(max_iter=1000)"
      ]
     },
     "execution_count": 40,
     "metadata": {},
     "output_type": "execute_result"
    }
   ],
   "source": [
    "logreg.fit(x_train, y_train)"
   ]
  },
  {
   "cell_type": "code",
   "execution_count": 41,
   "id": "d37850dc",
   "metadata": {
    "execution": {
     "iopub.execute_input": "2023-06-22T15:14:02.686113Z",
     "iopub.status.busy": "2023-06-22T15:14:02.685574Z",
     "iopub.status.idle": "2023-06-22T15:14:02.693075Z",
     "shell.execute_reply": "2023-06-22T15:14:02.692042Z"
    },
    "id": "XTQCuhtRcgSb",
    "papermill": {
     "duration": 0.057121,
     "end_time": "2023-06-22T15:14:02.697989",
     "exception": false,
     "start_time": "2023-06-22T15:14:02.640868",
     "status": "completed"
    },
    "tags": []
   },
   "outputs": [],
   "source": [
    "y_pred = logreg.predict(x_test)"
   ]
  },
  {
   "cell_type": "markdown",
   "id": "c77ed206",
   "metadata": {
    "papermill": {
     "duration": 0.014236,
     "end_time": "2023-06-22T15:14:02.728763",
     "exception": false,
     "start_time": "2023-06-22T15:14:02.714527",
     "status": "completed"
    },
    "tags": []
   },
   "source": [
    "## Logistic Regression Accuracy"
   ]
  },
  {
   "cell_type": "code",
   "execution_count": 42,
   "id": "9712baa0",
   "metadata": {
    "execution": {
     "iopub.execute_input": "2023-06-22T15:14:02.760147Z",
     "iopub.status.busy": "2023-06-22T15:14:02.759746Z",
     "iopub.status.idle": "2023-06-22T15:14:02.768092Z",
     "shell.execute_reply": "2023-06-22T15:14:02.767277Z"
    },
    "papermill": {
     "duration": 0.026787,
     "end_time": "2023-06-22T15:14:02.770069",
     "exception": false,
     "start_time": "2023-06-22T15:14:02.743282",
     "status": "completed"
    },
    "tags": []
   },
   "outputs": [
    {
     "data": {
      "text/plain": [
       "array([[266, 315],\n",
       "       [325, 325]])"
      ]
     },
     "execution_count": 42,
     "metadata": {},
     "output_type": "execute_result"
    }
   ],
   "source": [
    "confusion_matrix(y_test,y_pred)"
   ]
  },
  {
   "cell_type": "code",
   "execution_count": 43,
   "id": "935fa8dc",
   "metadata": {
    "execution": {
     "iopub.execute_input": "2023-06-22T15:14:02.802001Z",
     "iopub.status.busy": "2023-06-22T15:14:02.801240Z",
     "iopub.status.idle": "2023-06-22T15:14:02.815513Z",
     "shell.execute_reply": "2023-06-22T15:14:02.814423Z"
    },
    "papermill": {
     "duration": 0.032638,
     "end_time": "2023-06-22T15:14:02.817764",
     "exception": false,
     "start_time": "2023-06-22T15:14:02.785126",
     "status": "completed"
    },
    "tags": []
   },
   "outputs": [
    {
     "name": "stdout",
     "output_type": "stream",
     "text": [
      "              precision    recall  f1-score   support\n",
      "\n",
      "           0       0.45      0.46      0.45       581\n",
      "           1       0.51      0.50      0.50       650\n",
      "\n",
      "    accuracy                           0.48      1231\n",
      "   macro avg       0.48      0.48      0.48      1231\n",
      "weighted avg       0.48      0.48      0.48      1231\n",
      "\n"
     ]
    }
   ],
   "source": [
    "print(classification_report(y_test,y_pred))"
   ]
  },
  {
   "cell_type": "code",
   "execution_count": 44,
   "id": "33516350",
   "metadata": {
    "execution": {
     "iopub.execute_input": "2023-06-22T15:14:02.848791Z",
     "iopub.status.busy": "2023-06-22T15:14:02.848166Z",
     "iopub.status.idle": "2023-06-22T15:14:02.854997Z",
     "shell.execute_reply": "2023-06-22T15:14:02.854318Z"
    },
    "id": "KmdD0bRmcnao",
    "outputId": "2a363b9e-d461-4f5d-c0de-71349e3673d2",
    "papermill": {
     "duration": 0.024419,
     "end_time": "2023-06-22T15:14:02.856773",
     "exception": false,
     "start_time": "2023-06-22T15:14:02.832354",
     "status": "completed"
    },
    "tags": []
   },
   "outputs": [
    {
     "data": {
      "text/plain": [
       "0.4800974817221771"
      ]
     },
     "execution_count": 44,
     "metadata": {},
     "output_type": "execute_result"
    }
   ],
   "source": [
    "accuracy_score(y_test, y_pred)"
   ]
  },
  {
   "cell_type": "markdown",
   "id": "dee890f5",
   "metadata": {
    "papermill": {
     "duration": 0.014231,
     "end_time": "2023-06-22T15:14:02.885643",
     "exception": false,
     "start_time": "2023-06-22T15:14:02.871412",
     "status": "completed"
    },
    "tags": []
   },
   "source": [
    "# Explanation"
   ]
  },
  {
   "cell_type": "markdown",
   "id": "0a818a53",
   "metadata": {
    "papermill": {
     "duration": 0.014324,
     "end_time": "2023-06-22T15:14:02.914639",
     "exception": false,
     "start_time": "2023-06-22T15:14:02.900315",
     "status": "completed"
    },
    "tags": []
   },
   "source": [
    "In this project we have performed sentiment analysis on the top 25 financial dataset using Random Forest Classifier, SVM(Support Vector Machine) and Logistic Regression. Then they are compared based on the performance measures. By analysing the various outcomes of the three models we can see that SVM and Random Forest performed best for the analysis. All the required preprocessing of data and feature engineering were performed on the dataset available."
   ]
  }
 ],
 "metadata": {
  "kernelspec": {
   "display_name": "Python 3",
   "language": "python",
   "name": "python3"
  },
  "language_info": {
   "codemirror_mode": {
    "name": "ipython",
    "version": 3
   },
   "file_extension": ".py",
   "mimetype": "text/x-python",
   "name": "python",
   "nbconvert_exporter": "python",
   "pygments_lexer": "ipython3",
   "version": "3.10.10"
  },
  "papermill": {
   "default_parameters": {},
   "duration": 63.216788,
   "end_time": "2023-06-22T15:14:03.950818",
   "environment_variables": {},
   "exception": null,
   "input_path": "__notebook__.ipynb",
   "output_path": "__notebook__.ipynb",
   "parameters": {},
   "start_time": "2023-06-22T15:13:00.734030",
   "version": "2.4.0"
  }
 },
 "nbformat": 4,
 "nbformat_minor": 5
}
